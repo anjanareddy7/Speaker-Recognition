{
 "cells": [
  {
   "cell_type": "code",
   "execution_count": null,
   "id": "de3498e5-5da4-4ba1-82e9-c3ddd607664c",
   "metadata": {},
   "outputs": [
    {
     "name": "stdout",
     "output_type": "stream",
     "text": [
      "Total elements in original data: 856170\n",
      "Required elements for reshaping: 7420140\n",
      "The total number of elements does not match the required number for reshaping.\n"
     ]
    }
   ],
   "source": [
    "import pandas as pd\n",
    "import numpy as np\n",
    "from sklearn.preprocessing import StandardScaler, LabelEncoder\n",
    "from tensorflow.keras.utils import to_categorical\n",
    "\n",
    "\n",
    "train_csv = \"features_fixed.csv\"\n",
    "dev_csv   = r\"C:\\LibriSpeech\\features_dev_fixed.csv\"\n",
    "test_csv  = r\"C:\\LibriSpeech\\features_test_fixed.csv\"\n",
    "\n",
    "df_train = pd.read_csv(train_csv)\n",
    "df_dev = pd.read_csv(dev_csv)\n",
    "df_test = pd.read_csv(test_csv)\n",
    "\n",
    "\n",
    "features = [\n",
    "    'MFCC_1', 'MFCC_2', 'MFCC_3', 'MFCC_4', 'MFCC_5', 'MFCC_6', 'MFCC_7', \n",
    "    'MFCC_8', 'MFCC_9', 'MFCC_10', 'MFCC_11', 'MFCC_12', 'MFCC_13',\n",
    "    'Chroma_1', 'Chroma_2', 'Chroma_3', 'Chroma_4', 'Chroma_5', 'Chroma_6', \n",
    "    'Chroma_7', 'Chroma_8', 'Chroma_9', 'Chroma_10', 'Chroma_11', 'Chroma_12',\n",
    "    'Spectral_Centroid', 'Spectral_Bandwidth', 'Rolloff', 'Zero_Crossing_Rate', 'RMSE'\n",
    "]\n",
    "\n",
    "X_train = df_train[features].values\n",
    "y_train = df_train['Speaker_ID'].values\n",
    "\n",
    "X_dev = df_dev[features].values\n",
    "y_dev = df_dev['Speaker_ID'].values\n",
    "\n",
    "X_test = df_test[features].values\n",
    "y_test = df_test['Speaker_ID'].values\n",
    "\n",
    "\n",
    "scaler = StandardScaler()\n",
    "X_train_scaled = scaler.fit_transform(X_train)\n",
    "X_dev_scaled = scaler.transform(X_dev)\n",
    "X_test_scaled = scaler.transform(X_test)\n",
    "\n",
    "\n",
    "le = LabelEncoder()\n",
    "y_train_enc = le.fit_transform(y_train)\n",
    "y_dev_enc = le.transform(y_dev)\n",
    "y_test_enc = le.transform(y_test)\n",
    "\n",
    "num_classes = len(np.unique(y_train_enc))\n",
    "y_train_cat = to_categorical(y_train_enc, num_classes=num_classes)\n",
    "y_dev_cat = to_categorical(y_dev_enc, num_classes=num_classes)\n",
    "y_test_cat = to_categorical(y_test_enc, num_classes=num_classes)\n",
    "\n",
    "\n",
    "timesteps = 20  \n",
    "features = 13  \n",
    "\n",
    "num_samples = X_train_scaled.shape[0]\n",
    "\n",
    "\n",
    "total_elements = X_train_scaled.shape[0] * X_train_scaled.shape[1]\n",
    "print(f\"Total elements in original data: {total_elements}\")\n",
    "\n",
    "\n",
    "required_elements = num_samples * timesteps * features\n",
    "print(f\"Required elements for reshaping: {required_elements}\")\n",
    "\n",
    "\n",
    "if total_elements % required_elements == 0:\n",
    "   \n",
    "    X_train_seq = X_train_scaled.reshape(num_samples, timesteps, features)\n",
    "    X_dev_seq = X_dev_scaled.reshape(X_dev_scaled.shape[0], timesteps, features)\n",
    "    X_test_seq = X_test_scaled.reshape(X_test_scaled.shape[0], timesteps, features)\n",
    "    \n",
    "    print(f\"X_train_seq shape: {X_train_seq.shape}\")\n",
    "    print(f\"X_dev_seq shape: {X_dev_seq.shape}\")\n",
    "    print(f\"X_test_seq shape: {X_test_seq.shape}\")\n",
    "else:\n",
    "    print(\"The total number of elements does not match the required number for reshaping.\")\n"
   ]
  },
  {
   "cell_type": "code",
   "execution_count": null,
   "id": "064d916d-d5e8-46c0-b5e0-25318f865d0f",
   "metadata": {},
   "outputs": [
    {
     "name": "stdout",
     "output_type": "stream",
     "text": [
      "X_train_seq shape: (28539, 1, 30)\n",
      "X_dev_seq shape: (2825, 1, 30)\n",
      "X_test_seq shape: (2913, 1, 30)\n"
     ]
    }
   ],
   "source": [
    "timesteps = 1  \n",
    "features = X_train_scaled.shape[1]  \n",
    "\n",
    "\n",
    "num_samples = X_train_scaled.shape[0]\n",
    "\n",
    "\n",
    "X_train_seq = X_train_scaled.reshape(num_samples, timesteps, features)\n",
    "X_dev_seq = X_dev_scaled.reshape(X_dev_scaled.shape[0], timesteps, features)\n",
    "X_test_seq = X_test_scaled.reshape(X_test_scaled.shape[0], timesteps, features)\n",
    "\n",
    "print(f\"X_train_seq shape: {X_train_seq.shape}\")\n",
    "print(f\"X_dev_seq shape: {X_dev_seq.shape}\")\n",
    "print(f\"X_test_seq shape: {X_test_seq.shape}\")\n"
   ]
  },
  {
   "cell_type": "code",
   "execution_count": null,
   "id": "09bc43a9-97a0-47a7-9da4-2e9d3dab8d82",
   "metadata": {},
   "outputs": [
    {
     "name": "stderr",
     "output_type": "stream",
     "text": [
      "C:\\Users\\opsb2\\anaconda3\\Lib\\site-packages\\keras\\src\\layers\\rnn\\bidirectional.py:107: UserWarning: Do not pass an `input_shape`/`input_dim` argument to a layer. When using Sequential models, prefer using an `Input(shape)` object as the first layer in the model instead.\n",
      "  super().__init__(**kwargs)\n"
     ]
    },
    {
     "data": {
      "text/html": [
       "<pre style=\"white-space:pre;overflow-x:auto;line-height:normal;font-family:Menlo,'DejaVu Sans Mono',consolas,'Courier New',monospace\"><span style=\"font-weight: bold\">Model: \"sequential_5\"</span>\n",
       "</pre>\n"
      ],
      "text/plain": [
       "\u001b[1mModel: \"sequential_5\"\u001b[0m\n"
      ]
     },
     "metadata": {},
     "output_type": "display_data"
    },
    {
     "data": {
      "text/html": [
       "<pre style=\"white-space:pre;overflow-x:auto;line-height:normal;font-family:Menlo,'DejaVu Sans Mono',consolas,'Courier New',monospace\">┏━━━━━━━━━━━━━━━━━━━━━━━━━━━━━━━━━━━━━━┳━━━━━━━━━━━━━━━━━━━━━━━━━━━━━┳━━━━━━━━━━━━━━━━━┓\n",
       "┃<span style=\"font-weight: bold\"> Layer (type)                         </span>┃<span style=\"font-weight: bold\"> Output Shape                </span>┃<span style=\"font-weight: bold\">         Param # </span>┃\n",
       "┡━━━━━━━━━━━━━━━━━━━━━━━━━━━━━━━━━━━━━━╇━━━━━━━━━━━━━━━━━━━━━━━━━━━━━╇━━━━━━━━━━━━━━━━━┩\n",
       "│ bidirectional_4 (<span style=\"color: #0087ff; text-decoration-color: #0087ff\">Bidirectional</span>)      │ (<span style=\"color: #00d7ff; text-decoration-color: #00d7ff\">None</span>, <span style=\"color: #00af00; text-decoration-color: #00af00\">128</span>)                 │          <span style=\"color: #00af00; text-decoration-color: #00af00\">48,640</span> │\n",
       "├──────────────────────────────────────┼─────────────────────────────┼─────────────────┤\n",
       "│ dropout_8 (<span style=\"color: #0087ff; text-decoration-color: #0087ff\">Dropout</span>)                  │ (<span style=\"color: #00d7ff; text-decoration-color: #00d7ff\">None</span>, <span style=\"color: #00af00; text-decoration-color: #00af00\">128</span>)                 │               <span style=\"color: #00af00; text-decoration-color: #00af00\">0</span> │\n",
       "├──────────────────────────────────────┼─────────────────────────────┼─────────────────┤\n",
       "│ dense_7 (<span style=\"color: #0087ff; text-decoration-color: #0087ff\">Dense</span>)                      │ (<span style=\"color: #00d7ff; text-decoration-color: #00d7ff\">None</span>, <span style=\"color: #00af00; text-decoration-color: #00af00\">64</span>)                  │           <span style=\"color: #00af00; text-decoration-color: #00af00\">8,256</span> │\n",
       "├──────────────────────────────────────┼─────────────────────────────┼─────────────────┤\n",
       "│ dense_8 (<span style=\"color: #0087ff; text-decoration-color: #0087ff\">Dense</span>)                      │ (<span style=\"color: #00d7ff; text-decoration-color: #00d7ff\">None</span>, <span style=\"color: #00af00; text-decoration-color: #00af00\">251</span>)                 │          <span style=\"color: #00af00; text-decoration-color: #00af00\">16,315</span> │\n",
       "└──────────────────────────────────────┴─────────────────────────────┴─────────────────┘\n",
       "</pre>\n"
      ],
      "text/plain": [
       "┏━━━━━━━━━━━━━━━━━━━━━━━━━━━━━━━━━━━━━━┳━━━━━━━━━━━━━━━━━━━━━━━━━━━━━┳━━━━━━━━━━━━━━━━━┓\n",
       "┃\u001b[1m \u001b[0m\u001b[1mLayer (type)                        \u001b[0m\u001b[1m \u001b[0m┃\u001b[1m \u001b[0m\u001b[1mOutput Shape               \u001b[0m\u001b[1m \u001b[0m┃\u001b[1m \u001b[0m\u001b[1m        Param #\u001b[0m\u001b[1m \u001b[0m┃\n",
       "┡━━━━━━━━━━━━━━━━━━━━━━━━━━━━━━━━━━━━━━╇━━━━━━━━━━━━━━━━━━━━━━━━━━━━━╇━━━━━━━━━━━━━━━━━┩\n",
       "│ bidirectional_4 (\u001b[38;5;33mBidirectional\u001b[0m)      │ (\u001b[38;5;45mNone\u001b[0m, \u001b[38;5;34m128\u001b[0m)                 │          \u001b[38;5;34m48,640\u001b[0m │\n",
       "├──────────────────────────────────────┼─────────────────────────────┼─────────────────┤\n",
       "│ dropout_8 (\u001b[38;5;33mDropout\u001b[0m)                  │ (\u001b[38;5;45mNone\u001b[0m, \u001b[38;5;34m128\u001b[0m)                 │               \u001b[38;5;34m0\u001b[0m │\n",
       "├──────────────────────────────────────┼─────────────────────────────┼─────────────────┤\n",
       "│ dense_7 (\u001b[38;5;33mDense\u001b[0m)                      │ (\u001b[38;5;45mNone\u001b[0m, \u001b[38;5;34m64\u001b[0m)                  │           \u001b[38;5;34m8,256\u001b[0m │\n",
       "├──────────────────────────────────────┼─────────────────────────────┼─────────────────┤\n",
       "│ dense_8 (\u001b[38;5;33mDense\u001b[0m)                      │ (\u001b[38;5;45mNone\u001b[0m, \u001b[38;5;34m251\u001b[0m)                 │          \u001b[38;5;34m16,315\u001b[0m │\n",
       "└──────────────────────────────────────┴─────────────────────────────┴─────────────────┘\n"
      ]
     },
     "metadata": {},
     "output_type": "display_data"
    },
    {
     "data": {
      "text/html": [
       "<pre style=\"white-space:pre;overflow-x:auto;line-height:normal;font-family:Menlo,'DejaVu Sans Mono',consolas,'Courier New',monospace\"><span style=\"font-weight: bold\"> Total params: </span><span style=\"color: #00af00; text-decoration-color: #00af00\">73,211</span> (285.98 KB)\n",
       "</pre>\n"
      ],
      "text/plain": [
       "\u001b[1m Total params: \u001b[0m\u001b[38;5;34m73,211\u001b[0m (285.98 KB)\n"
      ]
     },
     "metadata": {},
     "output_type": "display_data"
    },
    {
     "data": {
      "text/html": [
       "<pre style=\"white-space:pre;overflow-x:auto;line-height:normal;font-family:Menlo,'DejaVu Sans Mono',consolas,'Courier New',monospace\"><span style=\"font-weight: bold\"> Trainable params: </span><span style=\"color: #00af00; text-decoration-color: #00af00\">73,211</span> (285.98 KB)\n",
       "</pre>\n"
      ],
      "text/plain": [
       "\u001b[1m Trainable params: \u001b[0m\u001b[38;5;34m73,211\u001b[0m (285.98 KB)\n"
      ]
     },
     "metadata": {},
     "output_type": "display_data"
    },
    {
     "data": {
      "text/html": [
       "<pre style=\"white-space:pre;overflow-x:auto;line-height:normal;font-family:Menlo,'DejaVu Sans Mono',consolas,'Courier New',monospace\"><span style=\"font-weight: bold\"> Non-trainable params: </span><span style=\"color: #00af00; text-decoration-color: #00af00\">0</span> (0.00 B)\n",
       "</pre>\n"
      ],
      "text/plain": [
       "\u001b[1m Non-trainable params: \u001b[0m\u001b[38;5;34m0\u001b[0m (0.00 B)\n"
      ]
     },
     "metadata": {},
     "output_type": "display_data"
    },
    {
     "name": "stdout",
     "output_type": "stream",
     "text": [
      "Epoch 1/30\n",
      "\u001b[1m446/446\u001b[0m \u001b[32m━━━━━━━━━━━━━━━━━━━━\u001b[0m\u001b[37m\u001b[0m \u001b[1m6s\u001b[0m 5ms/step - accuracy: 0.1276 - loss: 4.5674 - val_accuracy: 0.6188 - val_loss: 1.6735\n",
      "Epoch 2/30\n",
      "\u001b[1m446/446\u001b[0m \u001b[32m━━━━━━━━━━━━━━━━━━━━\u001b[0m\u001b[37m\u001b[0m \u001b[1m1s\u001b[0m 3ms/step - accuracy: 0.6332 - loss: 1.5214 - val_accuracy: 0.8322 - val_loss: 0.7296\n",
      "Epoch 3/30\n",
      "\u001b[1m446/446\u001b[0m \u001b[32m━━━━━━━━━━━━━━━━━━━━\u001b[0m\u001b[37m\u001b[0m \u001b[1m1s\u001b[0m 3ms/step - accuracy: 0.7592 - loss: 0.9258 - val_accuracy: 0.8772 - val_loss: 0.5028\n",
      "Epoch 4/30\n",
      "\u001b[1m446/446\u001b[0m \u001b[32m━━━━━━━━━━━━━━━━━━━━\u001b[0m\u001b[37m\u001b[0m \u001b[1m1s\u001b[0m 3ms/step - accuracy: 0.8217 - loss: 0.6786 - val_accuracy: 0.9002 - val_loss: 0.3893\n",
      "Epoch 5/30\n",
      "\u001b[1m446/446\u001b[0m \u001b[32m━━━━━━━━━━━━━━━━━━━━\u001b[0m\u001b[37m\u001b[0m \u001b[1m1s\u001b[0m 3ms/step - accuracy: 0.8460 - loss: 0.5613 - val_accuracy: 0.8920 - val_loss: 0.3884\n",
      "Epoch 6/30\n",
      "\u001b[1m446/446\u001b[0m \u001b[32m━━━━━━━━━━━━━━━━━━━━\u001b[0m\u001b[37m\u001b[0m \u001b[1m1s\u001b[0m 3ms/step - accuracy: 0.8610 - loss: 0.4957 - val_accuracy: 0.9122 - val_loss: 0.3242\n",
      "Epoch 7/30\n",
      "\u001b[1m446/446\u001b[0m \u001b[32m━━━━━━━━━━━━━━━━━━━━\u001b[0m\u001b[37m\u001b[0m \u001b[1m1s\u001b[0m 3ms/step - accuracy: 0.8784 - loss: 0.4257 - val_accuracy: 0.9352 - val_loss: 0.2402\n",
      "Epoch 8/30\n",
      "\u001b[1m446/446\u001b[0m \u001b[32m━━━━━━━━━━━━━━━━━━━━\u001b[0m\u001b[37m\u001b[0m \u001b[1m1s\u001b[0m 3ms/step - accuracy: 0.8860 - loss: 0.3974 - val_accuracy: 0.9342 - val_loss: 0.2436\n",
      "Epoch 9/30\n",
      "\u001b[1m446/446\u001b[0m \u001b[32m━━━━━━━━━━━━━━━━━━━━\u001b[0m\u001b[37m\u001b[0m \u001b[1m1s\u001b[0m 3ms/step - accuracy: 0.8953 - loss: 0.3612 - val_accuracy: 0.9377 - val_loss: 0.2287\n",
      "Epoch 10/30\n",
      "\u001b[1m446/446\u001b[0m \u001b[32m━━━━━━━━━━━━━━━━━━━━\u001b[0m\u001b[37m\u001b[0m \u001b[1m1s\u001b[0m 3ms/step - accuracy: 0.9062 - loss: 0.3314 - val_accuracy: 0.9437 - val_loss: 0.2049\n",
      "Epoch 11/30\n",
      "\u001b[1m446/446\u001b[0m \u001b[32m━━━━━━━━━━━━━━━━━━━━\u001b[0m\u001b[37m\u001b[0m \u001b[1m1s\u001b[0m 3ms/step - accuracy: 0.9055 - loss: 0.3140 - val_accuracy: 0.9490 - val_loss: 0.1931\n",
      "Epoch 12/30\n",
      "\u001b[1m446/446\u001b[0m \u001b[32m━━━━━━━━━━━━━━━━━━━━\u001b[0m\u001b[37m\u001b[0m \u001b[1m2s\u001b[0m 3ms/step - accuracy: 0.9148 - loss: 0.2952 - val_accuracy: 0.9582 - val_loss: 0.1482\n",
      "Epoch 13/30\n",
      "\u001b[1m446/446\u001b[0m \u001b[32m━━━━━━━━━━━━━━━━━━━━\u001b[0m\u001b[37m\u001b[0m \u001b[1m1s\u001b[0m 3ms/step - accuracy: 0.9170 - loss: 0.2817 - val_accuracy: 0.9561 - val_loss: 0.1529\n",
      "Epoch 14/30\n",
      "\u001b[1m446/446\u001b[0m \u001b[32m━━━━━━━━━━━━━━━━━━━━\u001b[0m\u001b[37m\u001b[0m \u001b[1m1s\u001b[0m 3ms/step - accuracy: 0.9212 - loss: 0.2656 - val_accuracy: 0.9692 - val_loss: 0.1191\n",
      "Epoch 15/30\n",
      "\u001b[1m446/446\u001b[0m \u001b[32m━━━━━━━━━━━━━━━━━━━━\u001b[0m\u001b[37m\u001b[0m \u001b[1m1s\u001b[0m 3ms/step - accuracy: 0.9239 - loss: 0.2526 - val_accuracy: 0.9727 - val_loss: 0.1124\n",
      "Epoch 16/30\n",
      "\u001b[1m446/446\u001b[0m \u001b[32m━━━━━━━━━━━━━━━━━━━━\u001b[0m\u001b[37m\u001b[0m \u001b[1m1s\u001b[0m 3ms/step - accuracy: 0.9287 - loss: 0.2373 - val_accuracy: 0.9646 - val_loss: 0.1267\n",
      "Epoch 17/30\n",
      "\u001b[1m446/446\u001b[0m \u001b[32m━━━━━━━━━━━━━━━━━━━━\u001b[0m\u001b[37m\u001b[0m \u001b[1m1s\u001b[0m 3ms/step - accuracy: 0.9262 - loss: 0.2406 - val_accuracy: 0.9703 - val_loss: 0.1152\n",
      "Epoch 18/30\n",
      "\u001b[1m446/446\u001b[0m \u001b[32m━━━━━━━━━━━━━━━━━━━━\u001b[0m\u001b[37m\u001b[0m \u001b[1m2s\u001b[0m 4ms/step - accuracy: 0.9340 - loss: 0.2184 - val_accuracy: 0.9742 - val_loss: 0.0997\n",
      "Epoch 19/30\n",
      "\u001b[1m446/446\u001b[0m \u001b[32m━━━━━━━━━━━━━━━━━━━━\u001b[0m\u001b[37m\u001b[0m \u001b[1m1s\u001b[0m 3ms/step - accuracy: 0.9360 - loss: 0.2193 - val_accuracy: 0.9699 - val_loss: 0.1091\n",
      "Epoch 20/30\n",
      "\u001b[1m446/446\u001b[0m \u001b[32m━━━━━━━━━━━━━━━━━━━━\u001b[0m\u001b[37m\u001b[0m \u001b[1m1s\u001b[0m 3ms/step - accuracy: 0.9327 - loss: 0.2179 - val_accuracy: 0.9798 - val_loss: 0.0828\n",
      "Epoch 21/30\n",
      "\u001b[1m446/446\u001b[0m \u001b[32m━━━━━━━━━━━━━━━━━━━━\u001b[0m\u001b[37m\u001b[0m \u001b[1m1s\u001b[0m 3ms/step - accuracy: 0.9399 - loss: 0.1985 - val_accuracy: 0.9784 - val_loss: 0.0872\n",
      "Epoch 22/30\n",
      "\u001b[1m446/446\u001b[0m \u001b[32m━━━━━━━━━━━━━━━━━━━━\u001b[0m\u001b[37m\u001b[0m \u001b[1m1s\u001b[0m 3ms/step - accuracy: 0.9405 - loss: 0.1941 - val_accuracy: 0.9763 - val_loss: 0.0911\n",
      "Epoch 23/30\n",
      "\u001b[1m446/446\u001b[0m \u001b[32m━━━━━━━━━━━━━━━━━━━━\u001b[0m\u001b[37m\u001b[0m \u001b[1m1s\u001b[0m 2ms/step - accuracy: 0.9395 - loss: 0.1912 - val_accuracy: 0.9699 - val_loss: 0.0998\n",
      "Epoch 24/30\n",
      "\u001b[1m446/446\u001b[0m \u001b[32m━━━━━━━━━━━━━━━━━━━━\u001b[0m\u001b[37m\u001b[0m \u001b[1m1s\u001b[0m 2ms/step - accuracy: 0.9410 - loss: 0.1850 - val_accuracy: 0.9731 - val_loss: 0.0924\n",
      "Epoch 25/30\n",
      "\u001b[1m446/446\u001b[0m \u001b[32m━━━━━━━━━━━━━━━━━━━━\u001b[0m\u001b[37m\u001b[0m \u001b[1m1s\u001b[0m 3ms/step - accuracy: 0.9454 - loss: 0.1745 - val_accuracy: 0.9770 - val_loss: 0.0836\n",
      "Epoch 26/30\n",
      "\u001b[1m446/446\u001b[0m \u001b[32m━━━━━━━━━━━━━━━━━━━━\u001b[0m\u001b[37m\u001b[0m \u001b[1m1s\u001b[0m 3ms/step - accuracy: 0.9415 - loss: 0.1779 - val_accuracy: 0.9823 - val_loss: 0.0681\n",
      "Epoch 27/30\n",
      "\u001b[1m446/446\u001b[0m \u001b[32m━━━━━━━━━━━━━━━━━━━━\u001b[0m\u001b[37m\u001b[0m \u001b[1m1s\u001b[0m 3ms/step - accuracy: 0.9495 - loss: 0.1578 - val_accuracy: 0.9869 - val_loss: 0.0556\n",
      "Epoch 28/30\n",
      "\u001b[1m446/446\u001b[0m \u001b[32m━━━━━━━━━━━━━━━━━━━━\u001b[0m\u001b[37m\u001b[0m \u001b[1m1s\u001b[0m 3ms/step - accuracy: 0.9474 - loss: 0.1646 - val_accuracy: 0.9795 - val_loss: 0.0736\n",
      "Epoch 29/30\n",
      "\u001b[1m446/446\u001b[0m \u001b[32m━━━━━━━━━━━━━━━━━━━━\u001b[0m\u001b[37m\u001b[0m \u001b[1m1s\u001b[0m 2ms/step - accuracy: 0.9509 - loss: 0.1585 - val_accuracy: 0.9855 - val_loss: 0.0639\n",
      "Epoch 30/30\n",
      "\u001b[1m446/446\u001b[0m \u001b[32m━━━━━━━━━━━━━━━━━━━━\u001b[0m\u001b[37m\u001b[0m \u001b[1m1s\u001b[0m 2ms/step - accuracy: 0.9504 - loss: 0.1517 - val_accuracy: 0.9869 - val_loss: 0.0527\n",
      "\u001b[1m92/92\u001b[0m \u001b[32m━━━━━━━━━━━━━━━━━━━━\u001b[0m\u001b[37m\u001b[0m \u001b[1m0s\u001b[0m 1ms/step - accuracy: 0.9645 - loss: 0.1142\n",
      "Test Accuracy: 0.9670\n",
      "\u001b[1m92/92\u001b[0m \u001b[32m━━━━━━━━━━━━━━━━━━━━\u001b[0m\u001b[37m\u001b[0m \u001b[1m1s\u001b[0m 4ms/step\n",
      "              precision    recall  f1-score   support\n",
      "\n",
      "           5       0.00      0.00      0.00         0\n",
      "           6       1.00      1.00      1.00        97\n",
      "           8       0.00      0.00      0.00         0\n",
      "          11       0.00      0.00      0.00         0\n",
      "          12       0.00      0.00      0.00         0\n",
      "          13       0.00      0.00      0.00         0\n",
      "          14       0.00      0.00      0.00         0\n",
      "          18       1.00      0.99      1.00       116\n",
      "          19       1.00      0.88      0.94       127\n",
      "          24       0.00      0.00      0.00         0\n",
      "          25       1.00      1.00      1.00       114\n",
      "          27       0.00      0.00      0.00         0\n",
      "          28       0.00      0.00      0.00         0\n",
      "          30       0.00      0.00      0.00         0\n",
      "          33       0.00      0.00      0.00         0\n",
      "          38       0.99      1.00      0.99        95\n",
      "          40       0.00      0.00      0.00         0\n",
      "          41       0.00      0.00      0.00         0\n",
      "          44       0.00      0.00      0.00         0\n",
      "          55       0.00      0.00      0.00         0\n",
      "          60       1.00      0.84      0.91       112\n",
      "          64       0.00      0.00      0.00         0\n",
      "          67       1.00      0.98      0.99       107\n",
      "          72       0.00      0.00      0.00         0\n",
      "          73       1.00      0.99      1.00       102\n",
      "          78       0.00      0.00      0.00         0\n",
      "          79       1.00      0.97      0.99       103\n",
      "          82       1.00      0.96      0.98       128\n",
      "          84       0.99      0.95      0.97       129\n",
      "          86       1.00      1.00      1.00        56\n",
      "          87       0.00      0.00      0.00         0\n",
      "          88       0.00      0.00      0.00         0\n",
      "          97       0.99      0.96      0.98       110\n",
      "          98       0.00      0.00      0.00         0\n",
      "         100       0.00      0.00      0.00         0\n",
      "         102       0.00      0.00      0.00         0\n",
      "         106       0.00      0.00      0.00         0\n",
      "         112       0.00      0.00      0.00         0\n",
      "         115       1.00      0.97      0.98       127\n",
      "         118       1.00      1.00      1.00       123\n",
      "         119       1.00      0.98      0.99       119\n",
      "         120       1.00      0.96      0.98       113\n",
      "         121       0.00      0.00      0.00         0\n",
      "         126       1.00      1.00      1.00       119\n",
      "         132       1.00      0.95      0.97       113\n",
      "         133       0.00      0.00      0.00         0\n",
      "         134       0.00      0.00      0.00         0\n",
      "         142       0.00      0.00      0.00         0\n",
      "         143       0.00      0.00      0.00         0\n",
      "         144       0.00      0.00      0.00         0\n",
      "         145       0.00      0.00      0.00         0\n",
      "         147       0.00      0.00      0.00         0\n",
      "         151       0.00      0.00      0.00         0\n",
      "         155       1.00      0.99      1.00       111\n",
      "         162       0.00      0.00      0.00         0\n",
      "         166       0.00      0.00      0.00         0\n",
      "         177       1.00      0.96      0.98       112\n",
      "         183       0.00      0.00      0.00         0\n",
      "         185       0.00      0.00      0.00         0\n",
      "         186       0.00      0.00      0.00         0\n",
      "         188       0.00      0.00      0.00         0\n",
      "         189       0.00      0.00      0.00         0\n",
      "         191       0.00      0.00      0.00         0\n",
      "         192       1.00      1.00      1.00       108\n",
      "         196       0.99      0.89      0.94       133\n",
      "         203       0.00      0.00      0.00         0\n",
      "         214       0.00      0.00      0.00         0\n",
      "         220       1.00      0.98      0.99       103\n",
      "         226       0.00      0.00      0.00         0\n",
      "         227       0.00      0.00      0.00         0\n",
      "         233       0.00      0.00      0.00         0\n",
      "         234       1.00      0.97      0.99       118\n",
      "         235       0.00      0.00      0.00         0\n",
      "         236       0.00      0.00      0.00         0\n",
      "         240       0.00      0.00      0.00         0\n",
      "         241       0.99      1.00      1.00       118\n",
      "         244       0.00      0.00      0.00         0\n",
      "\n",
      "    accuracy                           0.97      2913\n",
      "   macro avg       0.34      0.33      0.33      2913\n",
      "weighted avg       1.00      0.97      0.98      2913\n",
      "\n"
     ]
    },
    {
     "name": "stderr",
     "output_type": "stream",
     "text": [
      "C:\\Users\\opsb2\\anaconda3\\Lib\\site-packages\\sklearn\\metrics\\_classification.py:1531: UndefinedMetricWarning: Recall is ill-defined and being set to 0.0 in labels with no true samples. Use `zero_division` parameter to control this behavior.\n",
      "  _warn_prf(average, modifier, f\"{metric.capitalize()} is\", len(result))\n",
      "C:\\Users\\opsb2\\anaconda3\\Lib\\site-packages\\sklearn\\metrics\\_classification.py:1531: UndefinedMetricWarning: Recall is ill-defined and being set to 0.0 in labels with no true samples. Use `zero_division` parameter to control this behavior.\n",
      "  _warn_prf(average, modifier, f\"{metric.capitalize()} is\", len(result))\n",
      "C:\\Users\\opsb2\\anaconda3\\Lib\\site-packages\\sklearn\\metrics\\_classification.py:1531: UndefinedMetricWarning: Recall is ill-defined and being set to 0.0 in labels with no true samples. Use `zero_division` parameter to control this behavior.\n",
      "  _warn_prf(average, modifier, f\"{metric.capitalize()} is\", len(result))\n"
     ]
    }
   ],
   "source": [
    "from tensorflow.keras.models import Sequential\n",
    "from tensorflow.keras.layers import LSTM, Bidirectional, Dense, Dropout\n",
    "\n",
    "\n",
    "model = Sequential([\n",
    "    Bidirectional(LSTM(64, return_sequences=False), input_shape=(1, 30)),  # 64 LSTM units\n",
    "    Dropout(0.2),\n",
    "    Dense(64, activation='relu'),\n",
    "    Dense(num_classes, activation='softmax')  \n",
    "])\n",
    "\n",
    "\n",
    "model.compile(optimizer='adam', loss='categorical_crossentropy', metrics=['accuracy'])\n",
    "\n",
    "\n",
    "model.summary()\n",
    "\n",
    "\n",
    "history = model.fit(X_train_seq, y_train_cat, \n",
    "                    epochs=30, batch_size=64,\n",
    "                    validation_data=(X_dev_seq, y_dev_cat))\n",
    "\n",
    "\n",
    "test_loss, test_accuracy = model.evaluate(X_test_seq, y_test_cat)\n",
    "print(f\"Test Accuracy: {test_accuracy:.4f}\")\n",
    "\n",
    "\n",
    "y_pred = np.argmax(model.predict(X_test_seq), axis=1)\n",
    "print(classification_report(y_test_enc, y_pred))\n"
   ]
  },
  {
   "cell_type": "code",
   "execution_count": null,
   "id": "faad72d4-16b4-477c-bd5f-4994d55fccba",
   "metadata": {},
   "outputs": [],
   "source": [
    "\n",
    "X_train = df_train.drop(columns=['Speaker_ID', 'Chapter_ID', 'File_Name'])\n",
    "X_test = df_test.drop(columns=['Speaker_ID', 'Chapter_ID', 'File_Name'])\n",
    "\n",
    "\n",
    "from sklearn.preprocessing import LabelEncoder\n",
    "le = LabelEncoder()\n",
    "y_train = le.fit_transform(df_train['Speaker_ID'])\n",
    "y_test = le.transform(df_test['Speaker_ID'])\n",
    "\n",
    "\n",
    "from sklearn.preprocessing import StandardScaler\n",
    "scaler = StandardScaler()\n",
    "\n",
    "\n",
    "X_train = scaler.fit_transform(X_train)\n",
    "X_test = scaler.transform(X_test)\n",
    "\n"
   ]
  },
  {
   "cell_type": "code",
   "execution_count": null,
   "id": "0bcb03f3-5699-4976-83ec-f258276467b2",
   "metadata": {},
   "outputs": [
    {
     "name": "stdout",
     "output_type": "stream",
     "text": [
      "Epoch 1/30\n"
     ]
    },
    {
     "name": "stderr",
     "output_type": "stream",
     "text": [
      "C:\\Users\\opsb2\\anaconda3\\Lib\\site-packages\\keras\\src\\layers\\rnn\\bidirectional.py:107: UserWarning: Do not pass an `input_shape`/`input_dim` argument to a layer. When using Sequential models, prefer using an `Input(shape)` object as the first layer in the model instead.\n",
      "  super().__init__(**kwargs)\n"
     ]
    },
    {
     "name": "stdout",
     "output_type": "stream",
     "text": [
      "\u001b[1m892/892\u001b[0m \u001b[32m━━━━━━━━━━━━━━━━━━━━\u001b[0m\u001b[37m\u001b[0m \u001b[1m12s\u001b[0m 10ms/step - accuracy: 0.0501 - loss: 4.6812 - val_accuracy: 0.1346 - val_loss: 3.5534\n",
      "Epoch 2/30\n",
      "\u001b[1m892/892\u001b[0m \u001b[32m━━━━━━━━━━━━━━━━━━━━\u001b[0m\u001b[37m\u001b[0m \u001b[1m8s\u001b[0m 9ms/step - accuracy: 0.2127 - loss: 3.1265 - val_accuracy: 0.2204 - val_loss: 3.0194\n",
      "Epoch 3/30\n",
      "\u001b[1m892/892\u001b[0m \u001b[32m━━━━━━━━━━━━━━━━━━━━\u001b[0m\u001b[37m\u001b[0m \u001b[1m7s\u001b[0m 8ms/step - accuracy: 0.3303 - loss: 2.5908 - val_accuracy: 0.3714 - val_loss: 2.4912\n",
      "Epoch 4/30\n",
      "\u001b[1m892/892\u001b[0m \u001b[32m━━━━━━━━━━━━━━━━━━━━\u001b[0m\u001b[37m\u001b[0m \u001b[1m9s\u001b[0m 10ms/step - accuracy: 0.3846 - loss: 2.2932 - val_accuracy: 0.4157 - val_loss: 2.3031\n",
      "Epoch 5/30\n",
      "\u001b[1m892/892\u001b[0m \u001b[32m━━━━━━━━━━━━━━━━━━━━\u001b[0m\u001b[37m\u001b[0m \u001b[1m7s\u001b[0m 7ms/step - accuracy: 0.4223 - loss: 2.1424 - val_accuracy: 0.4432 - val_loss: 2.1053\n",
      "Epoch 6/30\n",
      "\u001b[1m892/892\u001b[0m \u001b[32m━━━━━━━━━━━━━━━━━━━━\u001b[0m\u001b[37m\u001b[0m \u001b[1m8s\u001b[0m 9ms/step - accuracy: 0.4530 - loss: 2.0130 - val_accuracy: 0.4555 - val_loss: 2.0474\n",
      "Epoch 7/30\n",
      "\u001b[1m892/892\u001b[0m \u001b[32m━━━━━━━━━━━━━━━━━━━━\u001b[0m\u001b[37m\u001b[0m \u001b[1m8s\u001b[0m 9ms/step - accuracy: 0.4665 - loss: 1.9646 - val_accuracy: 0.4748 - val_loss: 1.9852\n",
      "Epoch 8/30\n",
      "\u001b[1m892/892\u001b[0m \u001b[32m━━━━━━━━━━━━━━━━━━━━\u001b[0m\u001b[37m\u001b[0m \u001b[1m7s\u001b[0m 7ms/step - accuracy: 0.4870 - loss: 1.8721 - val_accuracy: 0.4885 - val_loss: 1.8643\n",
      "Epoch 9/30\n",
      "\u001b[1m892/892\u001b[0m \u001b[32m━━━━━━━━━━━━━━━━━━━━\u001b[0m\u001b[37m\u001b[0m \u001b[1m7s\u001b[0m 8ms/step - accuracy: 0.5093 - loss: 1.7685 - val_accuracy: 0.5084 - val_loss: 1.7833\n",
      "Epoch 10/30\n",
      "\u001b[1m892/892\u001b[0m \u001b[32m━━━━━━━━━━━━━━━━━━━━\u001b[0m\u001b[37m\u001b[0m \u001b[1m7s\u001b[0m 7ms/step - accuracy: 0.5260 - loss: 1.7062 - val_accuracy: 0.5149 - val_loss: 1.7242\n",
      "Epoch 11/30\n",
      "\u001b[1m892/892\u001b[0m \u001b[32m━━━━━━━━━━━━━━━━━━━━\u001b[0m\u001b[37m\u001b[0m \u001b[1m6s\u001b[0m 7ms/step - accuracy: 0.5538 - loss: 1.6303 - val_accuracy: 0.5438 - val_loss: 1.6511\n",
      "Epoch 12/30\n",
      "\u001b[1m892/892\u001b[0m \u001b[32m━━━━━━━━━━━━━━━━━━━━\u001b[0m\u001b[37m\u001b[0m \u001b[1m7s\u001b[0m 7ms/step - accuracy: 0.5668 - loss: 1.5574 - val_accuracy: 0.5990 - val_loss: 1.4536\n",
      "Epoch 13/30\n",
      "\u001b[1m892/892\u001b[0m \u001b[32m━━━━━━━━━━━━━━━━━━━━\u001b[0m\u001b[37m\u001b[0m \u001b[1m7s\u001b[0m 8ms/step - accuracy: 0.5783 - loss: 1.5044 - val_accuracy: 0.5987 - val_loss: 1.4321\n",
      "Epoch 14/30\n",
      "\u001b[1m892/892\u001b[0m \u001b[32m━━━━━━━━━━━━━━━━━━━━\u001b[0m\u001b[37m\u001b[0m \u001b[1m8s\u001b[0m 9ms/step - accuracy: 0.5969 - loss: 1.4537 - val_accuracy: 0.5987 - val_loss: 1.4405\n",
      "Epoch 15/30\n",
      "\u001b[1m892/892\u001b[0m \u001b[32m━━━━━━━━━━━━━━━━━━━━\u001b[0m\u001b[37m\u001b[0m \u001b[1m9s\u001b[0m 10ms/step - accuracy: 0.6088 - loss: 1.3918 - val_accuracy: 0.6135 - val_loss: 1.3787\n",
      "Epoch 16/30\n",
      "\u001b[1m892/892\u001b[0m \u001b[32m━━━━━━━━━━━━━━━━━━━━\u001b[0m\u001b[37m\u001b[0m \u001b[1m9s\u001b[0m 10ms/step - accuracy: 0.6225 - loss: 1.3419 - val_accuracy: 0.6725 - val_loss: 1.2113\n",
      "Epoch 17/30\n",
      "\u001b[1m892/892\u001b[0m \u001b[32m━━━━━━━━━━━━━━━━━━━━\u001b[0m\u001b[37m\u001b[0m \u001b[1m9s\u001b[0m 10ms/step - accuracy: 0.6352 - loss: 1.3066 - val_accuracy: 0.6656 - val_loss: 1.2206\n",
      "Epoch 18/30\n",
      "\u001b[1m892/892\u001b[0m \u001b[32m━━━━━━━━━━━━━━━━━━━━\u001b[0m\u001b[37m\u001b[0m \u001b[1m8s\u001b[0m 9ms/step - accuracy: 0.6436 - loss: 1.2715 - val_accuracy: 0.6636 - val_loss: 1.2124\n",
      "Epoch 19/30\n",
      "\u001b[1m892/892\u001b[0m \u001b[32m━━━━━━━━━━━━━━━━━━━━\u001b[0m\u001b[37m\u001b[0m \u001b[1m9s\u001b[0m 9ms/step - accuracy: 0.6504 - loss: 1.2464 - val_accuracy: 0.6801 - val_loss: 1.1513\n",
      "Epoch 20/30\n",
      "\u001b[1m892/892\u001b[0m \u001b[32m━━━━━━━━━━━━━━━━━━━━\u001b[0m\u001b[37m\u001b[0m \u001b[1m9s\u001b[0m 10ms/step - accuracy: 0.6562 - loss: 1.2126 - val_accuracy: 0.6464 - val_loss: 1.2016\n",
      "Epoch 21/30\n",
      "\u001b[1m892/892\u001b[0m \u001b[32m━━━━━━━━━━━━━━━━━━━━\u001b[0m\u001b[37m\u001b[0m \u001b[1m7s\u001b[0m 8ms/step - accuracy: 0.6669 - loss: 1.1749 - val_accuracy: 0.6969 - val_loss: 1.0675\n",
      "Epoch 22/30\n",
      "\u001b[1m892/892\u001b[0m \u001b[32m━━━━━━━━━━━━━━━━━━━━\u001b[0m\u001b[37m\u001b[0m \u001b[1m8s\u001b[0m 9ms/step - accuracy: 0.6768 - loss: 1.1429 - val_accuracy: 0.6780 - val_loss: 1.1147\n",
      "Epoch 23/30\n",
      "\u001b[1m892/892\u001b[0m \u001b[32m━━━━━━━━━━━━━━━━━━━━\u001b[0m\u001b[37m\u001b[0m \u001b[1m9s\u001b[0m 10ms/step - accuracy: 0.6763 - loss: 1.1352 - val_accuracy: 0.7182 - val_loss: 1.0124\n",
      "Epoch 24/30\n",
      "\u001b[1m892/892\u001b[0m \u001b[32m━━━━━━━━━━━━━━━━━━━━\u001b[0m\u001b[37m\u001b[0m \u001b[1m9s\u001b[0m 10ms/step - accuracy: 0.6851 - loss: 1.1079 - val_accuracy: 0.6965 - val_loss: 1.0411\n",
      "Epoch 25/30\n",
      "\u001b[1m892/892\u001b[0m \u001b[32m━━━━━━━━━━━━━━━━━━━━\u001b[0m\u001b[37m\u001b[0m \u001b[1m8s\u001b[0m 9ms/step - accuracy: 0.6992 - loss: 1.0607 - val_accuracy: 0.7051 - val_loss: 0.9830\n",
      "Epoch 26/30\n",
      "\u001b[1m892/892\u001b[0m \u001b[32m━━━━━━━━━━━━━━━━━━━━\u001b[0m\u001b[37m\u001b[0m \u001b[1m9s\u001b[0m 10ms/step - accuracy: 0.7016 - loss: 1.0427 - val_accuracy: 0.7367 - val_loss: 0.9168\n",
      "Epoch 27/30\n",
      "\u001b[1m892/892\u001b[0m \u001b[32m━━━━━━━━━━━━━━━━━━━━\u001b[0m\u001b[37m\u001b[0m \u001b[1m7s\u001b[0m 8ms/step - accuracy: 0.7061 - loss: 1.0299 - val_accuracy: 0.7367 - val_loss: 0.8977\n",
      "Epoch 28/30\n",
      "\u001b[1m892/892\u001b[0m \u001b[32m━━━━━━━━━━━━━━━━━━━━\u001b[0m\u001b[37m\u001b[0m \u001b[1m7s\u001b[0m 8ms/step - accuracy: 0.7127 - loss: 1.0140 - val_accuracy: 0.7473 - val_loss: 0.8928\n",
      "Epoch 29/30\n",
      "\u001b[1m892/892\u001b[0m \u001b[32m━━━━━━━━━━━━━━━━━━━━\u001b[0m\u001b[37m\u001b[0m \u001b[1m7s\u001b[0m 7ms/step - accuracy: 0.7180 - loss: 0.9830 - val_accuracy: 0.7264 - val_loss: 0.9331\n",
      "Epoch 30/30\n",
      "\u001b[1m892/892\u001b[0m \u001b[32m━━━━━━━━━━━━━━━━━━━━\u001b[0m\u001b[37m\u001b[0m \u001b[1m8s\u001b[0m 9ms/step - accuracy: 0.7184 - loss: 0.9779 - val_accuracy: 0.7487 - val_loss: 0.8408\n",
      "\u001b[1m92/92\u001b[0m \u001b[32m━━━━━━━━━━━━━━━━━━━━\u001b[0m\u001b[37m\u001b[0m \u001b[1m0s\u001b[0m 5ms/step - accuracy: 0.7744 - loss: 0.7647\n",
      "Test Accuracy: 0.7487126588821411\n"
     ]
    }
   ],
   "source": [
    "\n",
    "import pandas as pd\n",
    "import numpy as np\n",
    "from sklearn.preprocessing import LabelEncoder, StandardScaler\n",
    "from tensorflow.keras.models import Sequential\n",
    "from tensorflow.keras.layers import Bidirectional, LSTM, Dropout, Dense\n",
    "\n",
    "\n",
    "\n",
    "\n",
    "X_train = df_train.drop(columns=['Speaker_ID', 'Chapter_ID', 'File_Name'])\n",
    "X_test = df_test.drop(columns=['Speaker_ID', 'Chapter_ID', 'File_Name'])\n",
    "\n",
    "\n",
    "le = LabelEncoder()\n",
    "y_train = le.fit_transform(df_train['Speaker_ID'])\n",
    "y_test = le.transform(df_test['Speaker_ID'])\n",
    "\n",
    "\n",
    "scaler = StandardScaler()\n",
    "X_train = scaler.fit_transform(X_train)\n",
    "X_test = scaler.transform(X_test)\n",
    "\n",
    "\n",
    "model = Sequential()\n",
    "\n",
    "\n",
    "model.add(Bidirectional(LSTM(64, return_sequences=False), input_shape=(X_train.shape[1], 1)))\n",
    "model.add(Dropout(0.5))\n",
    "\n",
    "\n",
    "model.add(Dense(64, activation='relu'))\n",
    "model.add(Dense(len(le.classes_), activation='softmax')) \n",
    "\n",
    "model.compile(optimizer='adam', loss='sparse_categorical_crossentropy', metrics=['accuracy'])\n",
    "\n",
    "\n",
    "X_train = X_train[..., np.newaxis]  \n",
    "X_test = X_test[..., np.newaxis]\n",
    "\n",
    "\n",
    "history = model.fit(X_train, y_train, epochs=30, batch_size=32, validation_data=(X_test, y_test))\n",
    "\n",
    "\n",
    "test_loss, test_accuracy = model.evaluate(X_test, y_test)\n",
    "print(f\"Test Accuracy: {test_accuracy}\")\n",
    "\n"
   ]
  },
  {
   "cell_type": "code",
   "execution_count": 84,
   "id": "8089b151-34ce-4607-83b0-3b24a13a5be2",
   "metadata": {},
   "outputs": [
    {
     "data": {
      "image/png": "[encoded data removed]",
      "text/plain": [
       "<Figure size 640x480 with 1 Axes>"
      ]
     },
     "metadata": {},
     "output_type": "display_data"
    }
   ],
   "source": [
    "import matplotlib.pyplot as plt\n",
    "\n",
    "plt.plot(history.history['accuracy'], label='train acc')\n",
    "plt.plot(history.history['val_accuracy'], label='val acc')\n",
    "plt.plot(history.history['loss'], label='train loss')\n",
    "plt.plot(history.history['val_loss'], label='val loss')\n",
    "plt.legend()\n",
    "plt.grid(True)\n",
    "plt.title('Training & Validation Accuracy/Loss')\n",
    "plt.xlabel('Epoch')\n",
    "plt.ylabel('Value')\n",
    "plt.show()\n"
   ]
  },
  {
   "cell_type": "code",
   "execution_count": null,
   "id": "a4f40029-e9da-4aa8-97e7-5899dc1a4fcf",
   "metadata": {},
   "outputs": [
    {
     "name": "stdout",
     "output_type": "stream",
     "text": [
      "Collecting keras_tuner\n",
      "  Downloading keras_tuner-1.4.7-py3-none-any.whl.metadata (5.4 kB)\n",
      "Requirement already satisfied: keras in c:\\users\\opsb2\\anaconda3\\lib\\site-packages (from keras_tuner) (3.9.1)\n",
      "Requirement already satisfied: packaging in c:\\users\\opsb2\\anaconda3\\lib\\site-packages (from keras_tuner) (24.1)\n",
      "Requirement already satisfied: requests in c:\\users\\opsb2\\anaconda3\\lib\\site-packages (from keras_tuner) (2.32.3)\n",
      "Collecting kt-legacy (from keras_tuner)\n",
      "  Downloading kt_legacy-1.0.5-py3-none-any.whl.metadata (221 bytes)\n",
      "Requirement already satisfied: absl-py in c:\\users\\opsb2\\anaconda3\\lib\\site-packages (from keras->keras_tuner) (2.2.1)\n",
      "Requirement already satisfied: numpy in c:\\users\\opsb2\\anaconda3\\lib\\site-packages (from keras->keras_tuner) (1.26.4)\n",
      "Requirement already satisfied: rich in c:\\users\\opsb2\\anaconda3\\lib\\site-packages (from keras->keras_tuner) (13.7.1)\n",
      "Requirement already satisfied: namex in c:\\users\\opsb2\\anaconda3\\lib\\site-packages (from keras->keras_tuner) (0.0.8)\n",
      "Requirement already satisfied: h5py in c:\\users\\opsb2\\anaconda3\\lib\\site-packages (from keras->keras_tuner) (3.11.0)\n",
      "Requirement already satisfied: optree in c:\\users\\opsb2\\anaconda3\\lib\\site-packages (from keras->keras_tuner) (0.14.1)\n",
      "Requirement already satisfied: ml-dtypes in c:\\users\\opsb2\\anaconda3\\lib\\site-packages (from keras->keras_tuner) (0.5.1)\n",
      "Requirement already satisfied: charset-normalizer<4,>=2 in c:\\users\\opsb2\\anaconda3\\lib\\site-packages (from requests->keras_tuner) (3.3.2)\n",
      "Requirement already satisfied: idna<4,>=2.5 in c:\\users\\opsb2\\anaconda3\\lib\\site-packages (from requests->keras_tuner) (3.7)\n",
      "Requirement already satisfied: urllib3<3,>=1.21.1 in c:\\users\\opsb2\\anaconda3\\lib\\site-packages (from requests->keras_tuner) (2.2.3)\n",
      "Requirement already satisfied: certifi>=2017.4.17 in c:\\users\\opsb2\\anaconda3\\lib\\site-packages (from requests->keras_tuner) (2025.1.31)\n",
      "Requirement already satisfied: typing-extensions>=4.5.0 in c:\\users\\opsb2\\anaconda3\\lib\\site-packages (from optree->keras->keras_tuner) (4.11.0)\n",
      "Requirement already satisfied: markdown-it-py>=2.2.0 in c:\\users\\opsb2\\anaconda3\\lib\\site-packages (from rich->keras->keras_tuner) (2.2.0)\n",
      "Requirement already satisfied: pygments<3.0.0,>=2.13.0 in c:\\users\\opsb2\\anaconda3\\lib\\site-packages (from rich->keras->keras_tuner) (2.15.1)\n",
      "Requirement already satisfied: mdurl~=0.1 in c:\\users\\opsb2\\anaconda3\\lib\\site-packages (from markdown-it-py>=2.2.0->rich->keras->keras_tuner) (0.1.0)\n",
      "Downloading keras_tuner-1.4.7-py3-none-any.whl (129 kB)\n",
      "Downloading kt_legacy-1.0.5-py3-none-any.whl (9.6 kB)\n",
      "Installing collected packages: kt-legacy, keras_tuner\n",
      "Successfully installed keras_tuner-1.4.7 kt-legacy-1.0.5\n"
     ]
    }
   ],
   "source": [
    "!pip install keras_tuner\n",
    "import keras_tuner as kt\n",
    "from tensorflow.keras import layers, models\n",
    "\n",
    "def quick_model_builder(hp):\n",
    "    model = models.Sequential()\n",
    "    model.add(layers.Input(shape=(X_train.shape[1], X_train.shape[2])))\n",
    "\n",
    "    \n",
    "    lstm_units = hp.Choice('lstm_units', values=[64, 128])\n",
    "    model.add(layers.Bidirectional(layers.LSTM(units=lstm_units)))\n",
    "\n",
    "    \n",
    "    dropout_rate = hp.Choice('dropout_rate', values=[0.3, 0.5])\n",
    "    model.add(layers.Dropout(dropout_rate))\n",
    "\n",
    "    \n",
    "    dense_units = hp.Choice('dense_units', values=[64, 128])\n",
    "    model.add(layers.Dense(dense_units, activation='relu'))\n",
    "\n",
    "    \n",
    "    model.add(layers.Dense(num_classes, activation='softmax'))\n",
    "\n",
    "    \n",
    "    learning_rate = hp.Choice('learning_rate', values=[1e-3, 1e-4])\n",
    "    model.compile(optimizer=tf.keras.optimizers.Adam(learning_rate),\n",
    "                  loss='categorical_crossentropy',\n",
    "                  metrics=['accuracy'])\n",
    "    \n",
    "    return model\n"
   ]
  },
  {
   "cell_type": "code",
   "execution_count": 94,
   "id": "c5a63d4e-cf90-43eb-87d4-5b46e63072ac",
   "metadata": {},
   "outputs": [],
   "source": [
    "from tensorflow.keras.utils import to_categorical\n",
    "\n",
    "y_train_cat = to_categorical(y_train, num_classes=num_classes)\n",
    "y_test_cat = to_categorical(y_test, num_classes=num_classes)\n"
   ]
  },
  {
   "cell_type": "code",
   "execution_count": null,
   "id": "3257fe65-cd7a-452e-aae6-d234607480e0",
   "metadata": {},
   "outputs": [
    {
     "name": "stdout",
     "output_type": "stream",
     "text": [
      "Trial 5 Complete [00h 02m 07s]\n",
      "val_accuracy: 0.7346378564834595\n",
      "\n",
      "Best val_accuracy So Far: 0.7346378564834595\n",
      "Total elapsed time: 00h 09m 48s\n"
     ]
    }
   ],
   "source": [
    "tuner = kt.RandomSearch(\n",
    "    quick_model_builder,\n",
    "    objective='val_accuracy',\n",
    "    max_trials=5,  \n",
    "    directory='quick_tuning',\n",
    "    project_name='bilstm_quick'\n",
    ")\n",
    "\n",
    "stop_early = tf.keras.callbacks.EarlyStopping(monitor='val_loss', patience=3)\n",
    "\n",
    "tuner.search(X_train, y_train_cat,\n",
    "             epochs=15,\n",
    "             validation_data=(X_test, y_test_cat),\n",
    "             callbacks=[stop_early])\n"
   ]
  },
  {
   "cell_type": "code",
   "execution_count": null,
   "id": "a815c41f-f5a1-4ee4-925f-f65ce447520b",
   "metadata": {},
   "outputs": [
    {
     "name": "stdout",
     "output_type": "stream",
     "text": [
      "Best Config:\n",
      "lstm_units: 64\n",
      "dense_units: 128\n",
      "dropout_rate: 0.3\n",
      "learning_rate: 0.001\n",
      "Epoch 1/15\n",
      "\u001b[1m892/892\u001b[0m \u001b[32m━━━━━━━━━━━━━━━━━━━━\u001b[0m\u001b[37m\u001b[0m \u001b[1m11s\u001b[0m 8ms/step - accuracy: 0.0704 - loss: 4.4571 - val_accuracy: 0.1878 - val_loss: 3.1308\n",
      "Epoch 2/15\n",
      "\u001b[1m892/892\u001b[0m \u001b[32m━━━━━━━━━━━━━━━━━━━━\u001b[0m\u001b[37m\u001b[0m \u001b[1m9s\u001b[0m 10ms/step - accuracy: 0.3062 - loss: 2.6969 - val_accuracy: 0.3402 - val_loss: 2.4904\n",
      "Epoch 3/15\n",
      "\u001b[1m892/892\u001b[0m \u001b[32m━━━━━━━━━━━━━━━━━━━━\u001b[0m\u001b[37m\u001b[0m \u001b[1m9s\u001b[0m 10ms/step - accuracy: 0.4110 - loss: 2.1937 - val_accuracy: 0.4325 - val_loss: 2.1102\n",
      "Epoch 4/15\n",
      "\u001b[1m892/892\u001b[0m \u001b[32m━━━━━━━━━━━━━━━━━━━━\u001b[0m\u001b[37m\u001b[0m \u001b[1m9s\u001b[0m 10ms/step - accuracy: 0.4688 - loss: 1.9233 - val_accuracy: 0.4298 - val_loss: 2.0318\n",
      "Epoch 5/15\n",
      "\u001b[1m892/892\u001b[0m \u001b[32m━━━━━━━━━━━━━━━━━━━━\u001b[0m\u001b[37m\u001b[0m \u001b[1m9s\u001b[0m 10ms/step - accuracy: 0.5139 - loss: 1.7642 - val_accuracy: 0.4658 - val_loss: 1.9237\n",
      "Epoch 6/15\n",
      "\u001b[1m892/892\u001b[0m \u001b[32m━━━━━━━━━━━━━━━━━━━━\u001b[0m\u001b[37m\u001b[0m \u001b[1m9s\u001b[0m 10ms/step - accuracy: 0.5588 - loss: 1.5955 - val_accuracy: 0.5342 - val_loss: 1.6475\n",
      "Epoch 7/15\n",
      "\u001b[1m892/892\u001b[0m \u001b[32m━━━━━━━━━━━━━━━━━━━━\u001b[0m\u001b[37m\u001b[0m \u001b[1m9s\u001b[0m 10ms/step - accuracy: 0.5972 - loss: 1.4413 - val_accuracy: 0.5709 - val_loss: 1.5284\n",
      "Epoch 8/15\n",
      "\u001b[1m892/892\u001b[0m \u001b[32m━━━━━━━━━━━━━━━━━━━━\u001b[0m\u001b[37m\u001b[0m \u001b[1m9s\u001b[0m 10ms/step - accuracy: 0.6261 - loss: 1.3288 - val_accuracy: 0.6361 - val_loss: 1.2749\n",
      "Epoch 9/15\n",
      "\u001b[1m892/892\u001b[0m \u001b[32m━━━━━━━━━━━━━━━━━━━━\u001b[0m\u001b[37m\u001b[0m \u001b[1m9s\u001b[0m 10ms/step - accuracy: 0.6521 - loss: 1.2253 - val_accuracy: 0.6402 - val_loss: 1.2829\n",
      "Epoch 10/15\n",
      "\u001b[1m892/892\u001b[0m \u001b[32m━━━━━━━━━━━━━━━━━━━━\u001b[0m\u001b[37m\u001b[0m \u001b[1m9s\u001b[0m 10ms/step - accuracy: 0.6688 - loss: 1.1547 - val_accuracy: 0.6454 - val_loss: 1.2240\n",
      "Epoch 11/15\n",
      "\u001b[1m892/892\u001b[0m \u001b[32m━━━━━━━━━━━━━━━━━━━━\u001b[0m\u001b[37m\u001b[0m \u001b[1m9s\u001b[0m 10ms/step - accuracy: 0.6895 - loss: 1.0720 - val_accuracy: 0.6972 - val_loss: 1.0193\n",
      "Epoch 12/15\n",
      "\u001b[1m892/892\u001b[0m \u001b[32m━━━━━━━━━━━━━━━━━━━━\u001b[0m\u001b[37m\u001b[0m \u001b[1m9s\u001b[0m 10ms/step - accuracy: 0.7097 - loss: 0.9982 - val_accuracy: 0.7013 - val_loss: 1.0220\n",
      "Epoch 13/15\n",
      "\u001b[1m892/892\u001b[0m \u001b[32m━━━━━━━━━━━━━━━━━━━━\u001b[0m\u001b[37m\u001b[0m \u001b[1m9s\u001b[0m 10ms/step - accuracy: 0.7253 - loss: 0.9528 - val_accuracy: 0.7140 - val_loss: 0.9462\n",
      "Epoch 14/15\n",
      "\u001b[1m892/892\u001b[0m \u001b[32m━━━━━━━━━━━━━━━━━━━━\u001b[0m\u001b[37m\u001b[0m \u001b[1m8s\u001b[0m 9ms/step - accuracy: 0.7325 - loss: 0.9141 - val_accuracy: 0.7422 - val_loss: 0.8861\n",
      "Epoch 15/15\n",
      "\u001b[1m892/892\u001b[0m \u001b[32m━━━━━━━━━━━━━━━━━━━━\u001b[0m\u001b[37m\u001b[0m \u001b[1m7s\u001b[0m 8ms/step - accuracy: 0.7448 - loss: 0.8690 - val_accuracy: 0.7710 - val_loss: 0.7962\n"
     ]
    }
   ],
   "source": [
    "best_hps = tuner.get_best_hyperparameters(num_trials=1)[0]\n",
    "print(\"Best Config:\")\n",
    "for param in ['lstm_units', 'dense_units', 'dropout_rate', 'learning_rate']:\n",
    "    print(f\"{param}: {best_hps.get(param)}\")\n",
    "\n",
    "\n",
    "model = tuner.hypermodel.build(best_hps)\n",
    "history = model.fit(X_train, y_train_cat,\n",
    "          validation_data=(X_test, y_test_cat),\n",
    "          epochs=15)\n",
    "\n"
   ]
  },
  {
   "cell_type": "code",
   "execution_count": null,
   "id": "487d3573-27dd-4707-8c70-1358ab56b266",
   "metadata": {},
   "outputs": [],
   "source": [
    "import tensorflow as tf\n",
    "from tensorflow.keras.layers import Input, Bidirectional, LSTM, Dense, Dropout\n",
    "from tensorflow.keras.models import Model\n",
    "\n",
    "# Attention layer\n",
    "class Attention(tf.keras.layers.Layer):\n",
    "    def __init__(self):\n",
    "        super(Attention, self).__init__()\n",
    "\n",
    "    def build(self, input_shape):\n",
    "        self.W = self.add_weight(name=\"att_weight\", shape=(input_shape[-1], 1),\n",
    "                                 initializer=\"normal\")\n",
    "        self.b = self.add_weight(name=\"att_bias\", shape=(input_shape[1], 1),\n",
    "                                 initializer=\"zeros\")\n",
    "        super(Attention, self).build(input_shape)\n",
    "\n",
    "    def call(self, x):\n",
    "        \n",
    "        e = tf.keras.backend.tanh(tf.keras.backend.dot(x, self.W) + self.b)\n",
    "        a = tf.keras.backend.softmax(e, axis=1)\n",
    "        output = x * a\n",
    "        return tf.keras.backend.sum(output, axis=1)\n",
    "\n",
    "\n",
    "def build_bilstm_attention_model(input_shape, num_classes):\n",
    "    inputs = Input(shape=input_shape)\n",
    "    x = Bidirectional(LSTM(128, return_sequences=True))(inputs)\n",
    "    x = Attention()(x)\n",
    "    x = Dense(128, activation='relu')(x)\n",
    "    x = Dropout(0.5)(x)\n",
    "    outputs = Dense(num_classes, activation='softmax')(x)\n",
    "\n",
    "    model = Model(inputs, outputs)\n",
    "    model.compile(optimizer='adam',\n",
    "                  loss='categorical_crossentropy',\n",
    "                  metrics=['accuracy'])\n",
    "    return model\n"
   ]
  },
  {
   "cell_type": "code",
   "execution_count": null,
   "id": "906708b0-d89e-4f09-ab08-75a48f3c4b4a",
   "metadata": {},
   "outputs": [
    {
     "data": {
      "text/html": [
       "<pre style=\"white-space:pre;overflow-x:auto;line-height:normal;font-family:Menlo,'DejaVu Sans Mono',consolas,'Courier New',monospace\"><span style=\"font-weight: bold\">Model: \"functional_9\"</span>\n",
       "</pre>\n"
      ],
      "text/plain": [
       "\u001b[1mModel: \"functional_9\"\u001b[0m\n"
      ]
     },
     "metadata": {},
     "output_type": "display_data"
    },
    {
     "data": {
      "text/html": [
       "<pre style=\"white-space:pre;overflow-x:auto;line-height:normal;font-family:Menlo,'DejaVu Sans Mono',consolas,'Courier New',monospace\">┏━━━━━━━━━━━━━━━━━━━━━━━━━━━━━━━━━━━━━━┳━━━━━━━━━━━━━━━━━━━━━━━━━━━━━┳━━━━━━━━━━━━━━━━━┓\n",
       "┃<span style=\"font-weight: bold\"> Layer (type)                         </span>┃<span style=\"font-weight: bold\"> Output Shape                </span>┃<span style=\"font-weight: bold\">         Param # </span>┃\n",
       "┡━━━━━━━━━━━━━━━━━━━━━━━━━━━━━━━━━━━━━━╇━━━━━━━━━━━━━━━━━━━━━━━━━━━━━╇━━━━━━━━━━━━━━━━━┩\n",
       "│ input_layer_3 (<span style=\"color: #0087ff; text-decoration-color: #0087ff\">InputLayer</span>)           │ (<span style=\"color: #00d7ff; text-decoration-color: #00d7ff\">None</span>, <span style=\"color: #00af00; text-decoration-color: #00af00\">30</span>, <span style=\"color: #00af00; text-decoration-color: #00af00\">1</span>)               │               <span style=\"color: #00af00; text-decoration-color: #00af00\">0</span> │\n",
       "├──────────────────────────────────────┼─────────────────────────────┼─────────────────┤\n",
       "│ bidirectional_3 (<span style=\"color: #0087ff; text-decoration-color: #0087ff\">Bidirectional</span>)      │ (<span style=\"color: #00d7ff; text-decoration-color: #00d7ff\">None</span>, <span style=\"color: #00af00; text-decoration-color: #00af00\">30</span>, <span style=\"color: #00af00; text-decoration-color: #00af00\">256</span>)             │         <span style=\"color: #00af00; text-decoration-color: #00af00\">133,120</span> │\n",
       "├──────────────────────────────────────┼─────────────────────────────┼─────────────────┤\n",
       "│ attention_1 (<span style=\"color: #0087ff; text-decoration-color: #0087ff\">Attention</span>)              │ (<span style=\"color: #00d7ff; text-decoration-color: #00d7ff\">None</span>, <span style=\"color: #00af00; text-decoration-color: #00af00\">256</span>)                 │             <span style=\"color: #00af00; text-decoration-color: #00af00\">286</span> │\n",
       "├──────────────────────────────────────┼─────────────────────────────┼─────────────────┤\n",
       "│ dense_6 (<span style=\"color: #0087ff; text-decoration-color: #0087ff\">Dense</span>)                      │ (<span style=\"color: #00d7ff; text-decoration-color: #00d7ff\">None</span>, <span style=\"color: #00af00; text-decoration-color: #00af00\">128</span>)                 │          <span style=\"color: #00af00; text-decoration-color: #00af00\">32,896</span> │\n",
       "├──────────────────────────────────────┼─────────────────────────────┼─────────────────┤\n",
       "│ dropout_3 (<span style=\"color: #0087ff; text-decoration-color: #0087ff\">Dropout</span>)                  │ (<span style=\"color: #00d7ff; text-decoration-color: #00d7ff\">None</span>, <span style=\"color: #00af00; text-decoration-color: #00af00\">128</span>)                 │               <span style=\"color: #00af00; text-decoration-color: #00af00\">0</span> │\n",
       "├──────────────────────────────────────┼─────────────────────────────┼─────────────────┤\n",
       "│ dense_7 (<span style=\"color: #0087ff; text-decoration-color: #0087ff\">Dense</span>)                      │ (<span style=\"color: #00d7ff; text-decoration-color: #00d7ff\">None</span>, <span style=\"color: #00af00; text-decoration-color: #00af00\">251</span>)                 │          <span style=\"color: #00af00; text-decoration-color: #00af00\">32,379</span> │\n",
       "└──────────────────────────────────────┴─────────────────────────────┴─────────────────┘\n",
       "</pre>\n"
      ],
      "text/plain": [
       "┏━━━━━━━━━━━━━━━━━━━━━━━━━━━━━━━━━━━━━━┳━━━━━━━━━━━━━━━━━━━━━━━━━━━━━┳━━━━━━━━━━━━━━━━━┓\n",
       "┃\u001b[1m \u001b[0m\u001b[1mLayer (type)                        \u001b[0m\u001b[1m \u001b[0m┃\u001b[1m \u001b[0m\u001b[1mOutput Shape               \u001b[0m\u001b[1m \u001b[0m┃\u001b[1m \u001b[0m\u001b[1m        Param #\u001b[0m\u001b[1m \u001b[0m┃\n",
       "┡━━━━━━━━━━━━━━━━━━━━━━━━━━━━━━━━━━━━━━╇━━━━━━━━━━━━━━━━━━━━━━━━━━━━━╇━━━━━━━━━━━━━━━━━┩\n",
       "│ input_layer_3 (\u001b[38;5;33mInputLayer\u001b[0m)           │ (\u001b[38;5;45mNone\u001b[0m, \u001b[38;5;34m30\u001b[0m, \u001b[38;5;34m1\u001b[0m)               │               \u001b[38;5;34m0\u001b[0m │\n",
       "├──────────────────────────────────────┼─────────────────────────────┼─────────────────┤\n",
       "│ bidirectional_3 (\u001b[38;5;33mBidirectional\u001b[0m)      │ (\u001b[38;5;45mNone\u001b[0m, \u001b[38;5;34m30\u001b[0m, \u001b[38;5;34m256\u001b[0m)             │         \u001b[38;5;34m133,120\u001b[0m │\n",
       "├──────────────────────────────────────┼─────────────────────────────┼─────────────────┤\n",
       "│ attention_1 (\u001b[38;5;33mAttention\u001b[0m)              │ (\u001b[38;5;45mNone\u001b[0m, \u001b[38;5;34m256\u001b[0m)                 │             \u001b[38;5;34m286\u001b[0m │\n",
       "├──────────────────────────────────────┼─────────────────────────────┼─────────────────┤\n",
       "│ dense_6 (\u001b[38;5;33mDense\u001b[0m)                      │ (\u001b[38;5;45mNone\u001b[0m, \u001b[38;5;34m128\u001b[0m)                 │          \u001b[38;5;34m32,896\u001b[0m │\n",
       "├──────────────────────────────────────┼─────────────────────────────┼─────────────────┤\n",
       "│ dropout_3 (\u001b[38;5;33mDropout\u001b[0m)                  │ (\u001b[38;5;45mNone\u001b[0m, \u001b[38;5;34m128\u001b[0m)                 │               \u001b[38;5;34m0\u001b[0m │\n",
       "├──────────────────────────────────────┼─────────────────────────────┼─────────────────┤\n",
       "│ dense_7 (\u001b[38;5;33mDense\u001b[0m)                      │ (\u001b[38;5;45mNone\u001b[0m, \u001b[38;5;34m251\u001b[0m)                 │          \u001b[38;5;34m32,379\u001b[0m │\n",
       "└──────────────────────────────────────┴─────────────────────────────┴─────────────────┘\n"
      ]
     },
     "metadata": {},
     "output_type": "display_data"
    },
    {
     "data": {
      "text/html": [
       "<pre style=\"white-space:pre;overflow-x:auto;line-height:normal;font-family:Menlo,'DejaVu Sans Mono',consolas,'Courier New',monospace\"><span style=\"font-weight: bold\"> Total params: </span><span style=\"color: #00af00; text-decoration-color: #00af00\">198,681</span> (776.10 KB)\n",
       "</pre>\n"
      ],
      "text/plain": [
       "\u001b[1m Total params: \u001b[0m\u001b[38;5;34m198,681\u001b[0m (776.10 KB)\n"
      ]
     },
     "metadata": {},
     "output_type": "display_data"
    },
    {
     "data": {
      "text/html": [
       "<pre style=\"white-space:pre;overflow-x:auto;line-height:normal;font-family:Menlo,'DejaVu Sans Mono',consolas,'Courier New',monospace\"><span style=\"font-weight: bold\"> Trainable params: </span><span style=\"color: #00af00; text-decoration-color: #00af00\">198,681</span> (776.10 KB)\n",
       "</pre>\n"
      ],
      "text/plain": [
       "\u001b[1m Trainable params: \u001b[0m\u001b[38;5;34m198,681\u001b[0m (776.10 KB)\n"
      ]
     },
     "metadata": {},
     "output_type": "display_data"
    },
    {
     "data": {
      "text/html": [
       "<pre style=\"white-space:pre;overflow-x:auto;line-height:normal;font-family:Menlo,'DejaVu Sans Mono',consolas,'Courier New',monospace\"><span style=\"font-weight: bold\"> Non-trainable params: </span><span style=\"color: #00af00; text-decoration-color: #00af00\">0</span> (0.00 B)\n",
       "</pre>\n"
      ],
      "text/plain": [
       "\u001b[1m Non-trainable params: \u001b[0m\u001b[38;5;34m0\u001b[0m (0.00 B)\n"
      ]
     },
     "metadata": {},
     "output_type": "display_data"
    },
    {
     "name": "stdout",
     "output_type": "stream",
     "text": [
      "Epoch 1/15\n",
      "\u001b[1m892/892\u001b[0m \u001b[32m━━━━━━━━━━━━━━━━━━━━\u001b[0m\u001b[37m\u001b[0m \u001b[1m21s\u001b[0m 19ms/step - accuracy: 0.0266 - loss: 4.8491 - val_accuracy: 0.0899 - val_loss: 3.7836\n",
      "Epoch 2/15\n",
      "\u001b[1m892/892\u001b[0m \u001b[32m━━━━━━━━━━━━━━━━━━━━\u001b[0m\u001b[37m\u001b[0m \u001b[1m16s\u001b[0m 18ms/step - accuracy: 0.1318 - loss: 3.6411 - val_accuracy: 0.1411 - val_loss: 3.3427\n",
      "Epoch 3/15\n",
      "\u001b[1m892/892\u001b[0m \u001b[32m━━━━━━━━━━━━━━━━━━━━\u001b[0m\u001b[37m\u001b[0m \u001b[1m16s\u001b[0m 18ms/step - accuracy: 0.2337 - loss: 3.0628 - val_accuracy: 0.2853 - val_loss: 2.8357\n",
      "Epoch 4/15\n",
      "\u001b[1m892/892\u001b[0m \u001b[32m━━━━━━━━━━━━━━━━━━━━\u001b[0m\u001b[37m\u001b[0m \u001b[1m15s\u001b[0m 17ms/step - accuracy: 0.3203 - loss: 2.6332 - val_accuracy: 0.3677 - val_loss: 2.3637\n",
      "Epoch 5/15\n",
      "\u001b[1m892/892\u001b[0m \u001b[32m━━━━━━━━━━━━━━━━━━━━\u001b[0m\u001b[37m\u001b[0m \u001b[1m15s\u001b[0m 17ms/step - accuracy: 0.3899 - loss: 2.3048 - val_accuracy: 0.4257 - val_loss: 2.1349\n",
      "Epoch 6/15\n",
      "\u001b[1m892/892\u001b[0m \u001b[32m━━━━━━━━━━━━━━━━━━━━\u001b[0m\u001b[37m\u001b[0m \u001b[1m12s\u001b[0m 14ms/step - accuracy: 0.4392 - loss: 2.1094 - val_accuracy: 0.4693 - val_loss: 2.0186\n",
      "Epoch 7/15\n",
      "\u001b[1m892/892\u001b[0m \u001b[32m━━━━━━━━━━━━━━━━━━━━\u001b[0m\u001b[37m\u001b[0m \u001b[1m12s\u001b[0m 14ms/step - accuracy: 0.4732 - loss: 1.9429 - val_accuracy: 0.5132 - val_loss: 1.7472\n",
      "Epoch 8/15\n",
      "\u001b[1m892/892\u001b[0m \u001b[32m━━━━━━━━━━━━━━━━━━━━\u001b[0m\u001b[37m\u001b[0m \u001b[1m12s\u001b[0m 13ms/step - accuracy: 0.5178 - loss: 1.7917 - val_accuracy: 0.5990 - val_loss: 1.4798\n",
      "Epoch 9/15\n",
      "\u001b[1m892/892\u001b[0m \u001b[32m━━━━━━━━━━━━━━━━━━━━\u001b[0m\u001b[37m\u001b[0m \u001b[1m12s\u001b[0m 14ms/step - accuracy: 0.5535 - loss: 1.6426 - val_accuracy: 0.6097 - val_loss: 1.3973\n",
      "Epoch 10/15\n",
      "\u001b[1m892/892\u001b[0m \u001b[32m━━━━━━━━━━━━━━━━━━━━\u001b[0m\u001b[37m\u001b[0m \u001b[1m12s\u001b[0m 14ms/step - accuracy: 0.5884 - loss: 1.5157 - val_accuracy: 0.6169 - val_loss: 1.3521\n",
      "Epoch 11/15\n",
      "\u001b[1m892/892\u001b[0m \u001b[32m━━━━━━━━━━━━━━━━━━━━\u001b[0m\u001b[37m\u001b[0m \u001b[1m12s\u001b[0m 13ms/step - accuracy: 0.6013 - loss: 1.4415 - val_accuracy: 0.6395 - val_loss: 1.2434\n",
      "Epoch 12/15\n",
      "\u001b[1m892/892\u001b[0m \u001b[32m━━━━━━━━━━━━━━━━━━━━\u001b[0m\u001b[37m\u001b[0m \u001b[1m12s\u001b[0m 14ms/step - accuracy: 0.6291 - loss: 1.3312 - val_accuracy: 0.6595 - val_loss: 1.1826\n",
      "Epoch 13/15\n",
      "\u001b[1m892/892\u001b[0m \u001b[32m━━━━━━━━━━━━━━━━━━━━\u001b[0m\u001b[37m\u001b[0m \u001b[1m12s\u001b[0m 13ms/step - accuracy: 0.6403 - loss: 1.2747 - val_accuracy: 0.6917 - val_loss: 1.0689\n",
      "Epoch 14/15\n",
      "\u001b[1m892/892\u001b[0m \u001b[32m━━━━━━━━━━━━━━━━━━━━\u001b[0m\u001b[37m\u001b[0m \u001b[1m13s\u001b[0m 14ms/step - accuracy: 0.6586 - loss: 1.2150 - val_accuracy: 0.7168 - val_loss: 0.9786\n",
      "Epoch 15/15\n",
      "\u001b[1m892/892\u001b[0m \u001b[32m━━━━━━━━━━━━━━━━━━━━\u001b[0m\u001b[37m\u001b[0m \u001b[1m12s\u001b[0m 14ms/step - accuracy: 0.6696 - loss: 1.1654 - val_accuracy: 0.7329 - val_loss: 0.9278\n"
     ]
    }
   ],
   "source": [
    "model = build_bilstm_attention_model(input_shape=(X_train.shape[1], X_train.shape[2]), num_classes=251)\n",
    "model.summary()\n",
    "\n",
    "from tensorflow.keras.utils import to_categorical\n",
    "\n",
    "\n",
    "y_train_one_hot = to_categorical(y_train, num_classes=251)\n",
    "y_test_one_hot = to_categorical(y_test, num_classes=251)\n",
    "\n",
    "\n",
    "history = model.fit(X_train, y_train_one_hot,\n",
    "                    validation_data=(X_test, y_test_one_hot),\n",
    "                    epochs=15,\n",
    "                    batch_size=32)\n",
    "\n"
   ]
  },
  {
   "cell_type": "code",
   "execution_count": 108,
   "id": "b0157975-4b6e-49fc-903e-95c53f36a488",
   "metadata": {},
   "outputs": [
    {
     "name": "stdout",
     "output_type": "stream",
     "text": [
      "Epoch 1/30\n",
      "\u001b[1m892/892\u001b[0m \u001b[32m━━━━━━━━━━━━━━━━━━━━\u001b[0m\u001b[37m\u001b[0m \u001b[1m12s\u001b[0m 13ms/step - accuracy: 0.6902 - loss: 1.0944 - val_accuracy: 0.7418 - val_loss: 0.8571\n",
      "Epoch 2/30\n",
      "\u001b[1m892/892\u001b[0m \u001b[32m━━━━━━━━━━━━━━━━━━━━\u001b[0m\u001b[37m\u001b[0m \u001b[1m12s\u001b[0m 13ms/step - accuracy: 0.7061 - loss: 1.0342 - val_accuracy: 0.7645 - val_loss: 0.8159\n",
      "Epoch 3/30\n",
      "\u001b[1m892/892\u001b[0m \u001b[32m━━━━━━━━━━━━━━━━━━━━\u001b[0m\u001b[37m\u001b[0m \u001b[1m12s\u001b[0m 13ms/step - accuracy: 0.7171 - loss: 0.9985 - val_accuracy: 0.7635 - val_loss: 0.7967\n",
      "Epoch 4/30\n",
      "\u001b[1m892/892\u001b[0m \u001b[32m━━━━━━━━━━━━━━━━━━━━\u001b[0m\u001b[37m\u001b[0m \u001b[1m12s\u001b[0m 13ms/step - accuracy: 0.7344 - loss: 0.9395 - val_accuracy: 0.7741 - val_loss: 0.7484\n",
      "Epoch 5/30\n",
      "\u001b[1m892/892\u001b[0m \u001b[32m━━━━━━━━━━━━━━━━━━━━\u001b[0m\u001b[37m\u001b[0m \u001b[1m12s\u001b[0m 13ms/step - accuracy: 0.7360 - loss: 0.9126 - val_accuracy: 0.7975 - val_loss: 0.6697\n",
      "Epoch 6/30\n",
      "\u001b[1m892/892\u001b[0m \u001b[32m━━━━━━━━━━━━━━━━━━━━\u001b[0m\u001b[37m\u001b[0m \u001b[1m12s\u001b[0m 13ms/step - accuracy: 0.7514 - loss: 0.8566 - val_accuracy: 0.7800 - val_loss: 0.7143\n",
      "Epoch 7/30\n",
      "\u001b[1m892/892\u001b[0m \u001b[32m━━━━━━━━━━━━━━━━━━━━\u001b[0m\u001b[37m\u001b[0m \u001b[1m12s\u001b[0m 13ms/step - accuracy: 0.7548 - loss: 0.8268 - val_accuracy: 0.8332 - val_loss: 0.5617\n",
      "Epoch 8/30\n",
      "\u001b[1m892/892\u001b[0m \u001b[32m━━━━━━━━━━━━━━━━━━━━\u001b[0m\u001b[37m\u001b[0m \u001b[1m12s\u001b[0m 13ms/step - accuracy: 0.7685 - loss: 0.7974 - val_accuracy: 0.8239 - val_loss: 0.5822\n",
      "Epoch 9/30\n",
      "\u001b[1m892/892\u001b[0m \u001b[32m━━━━━━━━━━━━━━━━━━━━\u001b[0m\u001b[37m\u001b[0m \u001b[1m12s\u001b[0m 13ms/step - accuracy: 0.7800 - loss: 0.7656 - val_accuracy: 0.8352 - val_loss: 0.5519\n",
      "Epoch 10/30\n",
      "\u001b[1m892/892\u001b[0m \u001b[32m━━━━━━━━━━━━━━━━━━━━\u001b[0m\u001b[37m\u001b[0m \u001b[1m12s\u001b[0m 13ms/step - accuracy: 0.7835 - loss: 0.7320 - val_accuracy: 0.8500 - val_loss: 0.5054\n",
      "Epoch 11/30\n",
      "\u001b[1m892/892\u001b[0m \u001b[32m━━━━━━━━━━━━━━━━━━━━\u001b[0m\u001b[37m\u001b[0m \u001b[1m12s\u001b[0m 13ms/step - accuracy: 0.7936 - loss: 0.6896 - val_accuracy: 0.8469 - val_loss: 0.4972\n",
      "Epoch 12/30\n",
      "\u001b[1m892/892\u001b[0m \u001b[32m━━━━━━━━━━━━━━━━━━━━\u001b[0m\u001b[37m\u001b[0m \u001b[1m13s\u001b[0m 14ms/step - accuracy: 0.8014 - loss: 0.6649 - val_accuracy: 0.8483 - val_loss: 0.4817\n",
      "Epoch 13/30\n",
      "\u001b[1m892/892\u001b[0m \u001b[32m━━━━━━━━━━━━━━━━━━━━\u001b[0m\u001b[37m\u001b[0m \u001b[1m12s\u001b[0m 14ms/step - accuracy: 0.8069 - loss: 0.6380 - val_accuracy: 0.8623 - val_loss: 0.4557\n",
      "Epoch 14/30\n",
      "\u001b[1m892/892\u001b[0m \u001b[32m━━━━━━━━━━━━━━━━━━━━\u001b[0m\u001b[37m\u001b[0m \u001b[1m12s\u001b[0m 14ms/step - accuracy: 0.8142 - loss: 0.6244 - val_accuracy: 0.8764 - val_loss: 0.4212\n",
      "Epoch 15/30\n",
      "\u001b[1m892/892\u001b[0m \u001b[32m━━━━━━━━━━━━━━━━━━━━\u001b[0m\u001b[37m\u001b[0m \u001b[1m12s\u001b[0m 14ms/step - accuracy: 0.8189 - loss: 0.5987 - val_accuracy: 0.8685 - val_loss: 0.4165\n",
      "Epoch 16/30\n",
      "\u001b[1m892/892\u001b[0m \u001b[32m━━━━━━━━━━━━━━━━━━━━\u001b[0m\u001b[37m\u001b[0m \u001b[1m12s\u001b[0m 13ms/step - accuracy: 0.8260 - loss: 0.5770 - val_accuracy: 0.8843 - val_loss: 0.3770\n",
      "Epoch 17/30\n",
      "\u001b[1m892/892\u001b[0m \u001b[32m━━━━━━━━━━━━━━━━━━━━\u001b[0m\u001b[37m\u001b[0m \u001b[1m12s\u001b[0m 14ms/step - accuracy: 0.8312 - loss: 0.5561 - val_accuracy: 0.8853 - val_loss: 0.3580\n",
      "Epoch 18/30\n",
      "\u001b[1m892/892\u001b[0m \u001b[32m━━━━━━━━━━━━━━━━━━━━\u001b[0m\u001b[37m\u001b[0m \u001b[1m13s\u001b[0m 15ms/step - accuracy: 0.8318 - loss: 0.5468 - val_accuracy: 0.9053 - val_loss: 0.3231\n",
      "Epoch 19/30\n",
      "\u001b[1m892/892\u001b[0m \u001b[32m━━━━━━━━━━━━━━━━━━━━\u001b[0m\u001b[37m\u001b[0m \u001b[1m13s\u001b[0m 15ms/step - accuracy: 0.8456 - loss: 0.4995 - val_accuracy: 0.9059 - val_loss: 0.3184\n",
      "Epoch 20/30\n",
      "\u001b[1m892/892\u001b[0m \u001b[32m━━━━━━━━━━━━━━━━━━━━\u001b[0m\u001b[37m\u001b[0m \u001b[1m13s\u001b[0m 15ms/step - accuracy: 0.8528 - loss: 0.4864 - val_accuracy: 0.9118 - val_loss: 0.2879\n",
      "Epoch 21/30\n",
      "\u001b[1m892/892\u001b[0m \u001b[32m━━━━━━━━━━━━━━━━━━━━\u001b[0m\u001b[37m\u001b[0m \u001b[1m14s\u001b[0m 16ms/step - accuracy: 0.8538 - loss: 0.4707 - val_accuracy: 0.9231 - val_loss: 0.2537\n",
      "Epoch 22/30\n",
      "\u001b[1m892/892\u001b[0m \u001b[32m━━━━━━━━━━━━━━━━━━━━\u001b[0m\u001b[37m\u001b[0m \u001b[1m13s\u001b[0m 14ms/step - accuracy: 0.8563 - loss: 0.4584 - val_accuracy: 0.9210 - val_loss: 0.2804\n",
      "Epoch 23/30\n",
      "\u001b[1m892/892\u001b[0m \u001b[32m━━━━━━━━━━━━━━━━━━━━\u001b[0m\u001b[37m\u001b[0m \u001b[1m13s\u001b[0m 14ms/step - accuracy: 0.8658 - loss: 0.4363 - val_accuracy: 0.9234 - val_loss: 0.2517\n",
      "Epoch 24/30\n",
      "\u001b[1m892/892\u001b[0m \u001b[32m━━━━━━━━━━━━━━━━━━━━\u001b[0m\u001b[37m\u001b[0m \u001b[1m13s\u001b[0m 15ms/step - accuracy: 0.8647 - loss: 0.4351 - val_accuracy: 0.9300 - val_loss: 0.2229\n",
      "Epoch 25/30\n",
      "\u001b[1m892/892\u001b[0m \u001b[32m━━━━━━━━━━━━━━━━━━━━\u001b[0m\u001b[37m\u001b[0m \u001b[1m13s\u001b[0m 15ms/step - accuracy: 0.8654 - loss: 0.4223 - val_accuracy: 0.9427 - val_loss: 0.2037\n",
      "Epoch 26/30\n",
      "\u001b[1m892/892\u001b[0m \u001b[32m━━━━━━━━━━━━━━━━━━━━\u001b[0m\u001b[37m\u001b[0m \u001b[1m13s\u001b[0m 15ms/step - accuracy: 0.8702 - loss: 0.4019 - val_accuracy: 0.9358 - val_loss: 0.2154\n",
      "Epoch 27/30\n",
      "\u001b[1m892/892\u001b[0m \u001b[32m━━━━━━━━━━━━━━━━━━━━\u001b[0m\u001b[37m\u001b[0m \u001b[1m13s\u001b[0m 15ms/step - accuracy: 0.8726 - loss: 0.3968 - val_accuracy: 0.9464 - val_loss: 0.1901\n",
      "Epoch 28/30\n",
      "\u001b[1m892/892\u001b[0m \u001b[32m━━━━━━━━━━━━━━━━━━━━\u001b[0m\u001b[37m\u001b[0m \u001b[1m13s\u001b[0m 15ms/step - accuracy: 0.8809 - loss: 0.3701 - val_accuracy: 0.9513 - val_loss: 0.1696\n",
      "Epoch 29/30\n",
      "\u001b[1m892/892\u001b[0m \u001b[32m━━━━━━━━━━━━━━━━━━━━\u001b[0m\u001b[37m\u001b[0m \u001b[1m13s\u001b[0m 14ms/step - accuracy: 0.8773 - loss: 0.3838 - val_accuracy: 0.9296 - val_loss: 0.2203\n",
      "Epoch 30/30\n",
      "\u001b[1m892/892\u001b[0m \u001b[32m━━━━━━━━━━━━━━━━━━━━\u001b[0m\u001b[37m\u001b[0m \u001b[1m13s\u001b[0m 15ms/step - accuracy: 0.8847 - loss: 0.3455 - val_accuracy: 0.9564 - val_loss: 0.1474\n"
     ]
    }
   ],
   "source": [
    "from tensorflow.keras.callbacks import EarlyStopping\n",
    "\n",
    "early_stop = EarlyStopping(monitor='val_loss', patience=3, restore_best_weights=True)\n",
    "\n",
    "history =  model.fit(X_train, y_train_one_hot,\n",
    "                    validation_data=(X_test, y_test_one_hot),\n",
    "                    epochs=30,\n",
    "                    batch_size=32,callbacks=[early_stop])\n"
   ]
  },
  {
   "cell_type": "code",
   "execution_count": null,
   "id": "a88331bd-60b1-4484-aba6-1b6c5db45257",
   "metadata": {},
   "outputs": [
    {
     "name": "stdout",
     "output_type": "stream",
     "text": [
      "Epoch 1/30\n",
      "\u001b[1m889/892\u001b[0m \u001b[32m━━━━━━━━━━━━━━━━━━━\u001b[0m\u001b[37m━\u001b[0m \u001b[1m0s\u001b[0m 12ms/step - accuracy: 0.8862 - loss: 0.3454\n",
      "Epoch 1: val_loss improved from inf to 0.13411, saving model to best_bilstm_attention_model.h5\n"
     ]
    },
    {
     "name": "stderr",
     "output_type": "stream",
     "text": [
      "WARNING:absl:You are saving your model as an HDF5 file via `model.save()` or `keras.saving.save_model(model)`. This file format is considered legacy. We recommend using instead the native Keras format, e.g. `model.save('my_model.keras')` or `keras.saving.save_model(model, 'my_model.keras')`. \n"
     ]
    },
    {
     "name": "stdout",
     "output_type": "stream",
     "text": [
      "\u001b[1m892/892\u001b[0m \u001b[32m━━━━━━━━━━━━━━━━━━━━\u001b[0m\u001b[37m\u001b[0m \u001b[1m12s\u001b[0m 13ms/step - accuracy: 0.8862 - loss: 0.3455 - val_accuracy: 0.9643 - val_loss: 0.1341\n",
      "Epoch 2/30\n",
      "\u001b[1m890/892\u001b[0m \u001b[32m━━━━━━━━━━━━━━━━━━━\u001b[0m\u001b[37m━\u001b[0m \u001b[1m0s\u001b[0m 13ms/step - accuracy: 0.8898 - loss: 0.3417\n",
      "Epoch 2: val_loss did not improve from 0.13411\n",
      "\u001b[1m892/892\u001b[0m \u001b[32m━━━━━━━━━━━━━━━━━━━━\u001b[0m\u001b[37m\u001b[0m \u001b[1m12s\u001b[0m 13ms/step - accuracy: 0.8898 - loss: 0.3417 - val_accuracy: 0.9574 - val_loss: 0.1404\n",
      "Epoch 3/30\n",
      "\u001b[1m890/892\u001b[0m \u001b[32m━━━━━━━━━━━━━━━━━━━\u001b[0m\u001b[37m━\u001b[0m \u001b[1m0s\u001b[0m 13ms/step - accuracy: 0.8929 - loss: 0.3288\n",
      "Epoch 3: val_loss did not improve from 0.13411\n",
      "\u001b[1m892/892\u001b[0m \u001b[32m━━━━━━━━━━━━━━━━━━━━\u001b[0m\u001b[37m\u001b[0m \u001b[1m12s\u001b[0m 13ms/step - accuracy: 0.8929 - loss: 0.3288 - val_accuracy: 0.9616 - val_loss: 0.1372\n",
      "Epoch 4/30\n",
      "\u001b[1m891/892\u001b[0m \u001b[32m━━━━━━━━━━━━━━━━━━━\u001b[0m\u001b[37m━\u001b[0m \u001b[1m0s\u001b[0m 13ms/step - accuracy: 0.8988 - loss: 0.3153\n",
      "Epoch 4: val_loss did not improve from 0.13411\n",
      "\u001b[1m892/892\u001b[0m \u001b[32m━━━━━━━━━━━━━━━━━━━━\u001b[0m\u001b[37m\u001b[0m \u001b[1m12s\u001b[0m 13ms/step - accuracy: 0.8988 - loss: 0.3154 - val_accuracy: 0.9561 - val_loss: 0.1356\n",
      "Epoch 4: early stopping\n",
      "Restoring model weights from the end of the best epoch: 1.\n"
     ]
    }
   ],
   "source": [
    "from tensorflow.keras.callbacks import EarlyStopping, ModelCheckpoint\n",
    "\n",
    "\n",
    "checkpoint = ModelCheckpoint(\n",
    "    filepath='best_bilstm_attention_model.h5',  \n",
    "    monitor='val_loss',\n",
    "    save_best_only=True,\n",
    "    verbose=1\n",
    ")\n",
    "\n",
    "\n",
    "early_stop = EarlyStopping(\n",
    "    monitor='val_loss',\n",
    "    patience=3,\n",
    "    restore_best_weights=True,\n",
    "    verbose=1\n",
    ")\n",
    "\n",
    "\n",
    "history = model.fit(\n",
    "    X_train, y_train_one_hot,\n",
    "    validation_data=(X_test, y_test_one_hot),\n",
    "    epochs=30,\n",
    "    batch_size=32,\n",
    "    callbacks=[early_stop, checkpoint]\n",
    ")\n"
   ]
  },
  {
   "cell_type": "code",
   "execution_count": 114,
   "id": "f9032a92-7d58-4f05-91d1-8fc9d02415ff",
   "metadata": {},
   "outputs": [],
   "source": [
    "model.save(\"best_bilstm_attention_model.keras\")\n"
   ]
  },
  {
   "cell_type": "code",
   "execution_count": null,
   "id": "beda5bc3-12db-47ad-8a48-fb914bb5c836",
   "metadata": {},
   "outputs": [
    {
     "name": "stdout",
     "output_type": "stream",
     "text": [
      "Epoch 1/30\n",
      "\u001b[1m892/892\u001b[0m \u001b[32m━━━━━━━━━━━━━━━━━━━━\u001b[0m\u001b[37m\u001b[0m \u001b[1m14s\u001b[0m 13ms/step - accuracy: 0.0346 - loss: 4.7860 - val_accuracy: 0.0687 - val_loss: 3.9945\n",
      "Epoch 2/30\n",
      "\u001b[1m892/892\u001b[0m \u001b[32m━━━━━━━━━━━━━━━━━━━━\u001b[0m\u001b[37m\u001b[0m \u001b[1m12s\u001b[0m 14ms/step - accuracy: 0.1883 - loss: 3.3790 - val_accuracy: 0.2345 - val_loss: 3.1505\n",
      "Epoch 3/30\n",
      "\u001b[1m892/892\u001b[0m \u001b[32m━━━━━━━━━━━━━━━━━━━━\u001b[0m\u001b[37m\u001b[0m \u001b[1m12s\u001b[0m 14ms/step - accuracy: 0.3432 - loss: 2.5700 - val_accuracy: 0.3845 - val_loss: 2.4002\n",
      "Epoch 4/30\n",
      "\u001b[1m892/892\u001b[0m \u001b[32m━━━━━━━━━━━━━━━━━━━━\u001b[0m\u001b[37m\u001b[0m \u001b[1m12s\u001b[0m 14ms/step - accuracy: 0.4859 - loss: 1.9540 - val_accuracy: 0.4782 - val_loss: 1.9760\n",
      "Epoch 5/30\n",
      "\u001b[1m892/892\u001b[0m \u001b[32m━━━━━━━━━━━━━━━━━━━━\u001b[0m\u001b[37m\u001b[0m \u001b[1m12s\u001b[0m 14ms/step - accuracy: 0.5642 - loss: 1.6082 - val_accuracy: 0.5287 - val_loss: 1.7440\n",
      "Epoch 6/30\n",
      "\u001b[1m892/892\u001b[0m \u001b[32m━━━━━━━━━━━━━━━━━━━━\u001b[0m\u001b[37m\u001b[0m \u001b[1m13s\u001b[0m 14ms/step - accuracy: 0.6170 - loss: 1.3939 - val_accuracy: 0.5647 - val_loss: 1.6197\n",
      "Epoch 7/30\n",
      "\u001b[1m892/892\u001b[0m \u001b[32m━━━━━━━━━━━━━━━━━━━━\u001b[0m\u001b[37m\u001b[0m \u001b[1m13s\u001b[0m 14ms/step - accuracy: 0.6674 - loss: 1.2101 - val_accuracy: 0.5946 - val_loss: 1.4565\n",
      "Epoch 8/30\n",
      "\u001b[1m892/892\u001b[0m \u001b[32m━━━━━━━━━━━━━━━━━━━━\u001b[0m\u001b[37m\u001b[0m \u001b[1m13s\u001b[0m 15ms/step - accuracy: 0.6979 - loss: 1.0870 - val_accuracy: 0.6165 - val_loss: 1.3831\n",
      "Epoch 9/30\n",
      "\u001b[1m892/892\u001b[0m \u001b[32m━━━━━━━━━━━━━━━━━━━━\u001b[0m\u001b[37m\u001b[0m \u001b[1m13s\u001b[0m 14ms/step - accuracy: 0.7306 - loss: 0.9787 - val_accuracy: 0.7089 - val_loss: 1.0587\n",
      "Epoch 10/30\n",
      "\u001b[1m892/892\u001b[0m \u001b[32m━━━━━━━━━━━━━━━━━━━━\u001b[0m\u001b[37m\u001b[0m \u001b[1m13s\u001b[0m 14ms/step - accuracy: 0.7664 - loss: 0.8465 - val_accuracy: 0.7422 - val_loss: 0.9180\n",
      "Epoch 11/30\n",
      "\u001b[1m892/892\u001b[0m \u001b[32m━━━━━━━━━━━━━━━━━━━━\u001b[0m\u001b[37m\u001b[0m \u001b[1m13s\u001b[0m 15ms/step - accuracy: 0.7880 - loss: 0.7728 - val_accuracy: 0.7535 - val_loss: 0.8682\n",
      "Epoch 12/30\n",
      "\u001b[1m892/892\u001b[0m \u001b[32m━━━━━━━━━━━━━━━━━━━━\u001b[0m\u001b[37m\u001b[0m \u001b[1m13s\u001b[0m 15ms/step - accuracy: 0.8097 - loss: 0.6755 - val_accuracy: 0.7508 - val_loss: 0.8572\n",
      "Epoch 13/30\n",
      "\u001b[1m892/892\u001b[0m \u001b[32m━━━━━━━━━━━━━━━━━━━━\u001b[0m\u001b[37m\u001b[0m \u001b[1m13s\u001b[0m 15ms/step - accuracy: 0.8297 - loss: 0.6124 - val_accuracy: 0.7975 - val_loss: 0.7148\n",
      "Epoch 14/30\n",
      "\u001b[1m892/892\u001b[0m \u001b[32m━━━━━━━━━━━━━━━━━━━━\u001b[0m\u001b[37m\u001b[0m \u001b[1m13s\u001b[0m 15ms/step - accuracy: 0.8412 - loss: 0.5643 - val_accuracy: 0.7975 - val_loss: 0.6902\n",
      "Epoch 15/30\n",
      "\u001b[1m892/892\u001b[0m \u001b[32m━━━━━━━━━━━━━━━━━━━━\u001b[0m\u001b[37m\u001b[0m \u001b[1m13s\u001b[0m 15ms/step - accuracy: 0.8593 - loss: 0.5015 - val_accuracy: 0.8555 - val_loss: 0.5339\n",
      "Epoch 16/30\n",
      "\u001b[1m892/892\u001b[0m \u001b[32m━━━━━━━━━━━━━━━━━━━━\u001b[0m\u001b[37m\u001b[0m \u001b[1m14s\u001b[0m 16ms/step - accuracy: 0.8795 - loss: 0.4346 - val_accuracy: 0.8562 - val_loss: 0.5015\n",
      "Epoch 17/30\n",
      "\u001b[1m892/892\u001b[0m \u001b[32m━━━━━━━━━━━━━━━━━━━━\u001b[0m\u001b[37m\u001b[0m \u001b[1m14s\u001b[0m 15ms/step - accuracy: 0.8899 - loss: 0.3938 - val_accuracy: 0.8692 - val_loss: 0.4528\n",
      "Epoch 18/30\n",
      "\u001b[1m892/892\u001b[0m \u001b[32m━━━━━━━━━━━━━━━━━━━━\u001b[0m\u001b[37m\u001b[0m \u001b[1m14s\u001b[0m 15ms/step - accuracy: 0.8994 - loss: 0.3588 - val_accuracy: 0.8926 - val_loss: 0.3996\n",
      "Epoch 19/30\n",
      "\u001b[1m892/892\u001b[0m \u001b[32m━━━━━━━━━━━━━━━━━━━━\u001b[0m\u001b[37m\u001b[0m \u001b[1m14s\u001b[0m 15ms/step - accuracy: 0.9147 - loss: 0.3134 - val_accuracy: 0.8867 - val_loss: 0.3792\n",
      "Epoch 20/30\n",
      "\u001b[1m892/892\u001b[0m \u001b[32m━━━━━━━━━━━━━━━━━━━━\u001b[0m\u001b[37m\u001b[0m \u001b[1m14s\u001b[0m 15ms/step - accuracy: 0.9224 - loss: 0.2871 - val_accuracy: 0.9080 - val_loss: 0.3410\n",
      "Epoch 21/30\n",
      "\u001b[1m892/892\u001b[0m \u001b[32m━━━━━━━━━━━━━━━━━━━━\u001b[0m\u001b[37m\u001b[0m \u001b[1m14s\u001b[0m 15ms/step - accuracy: 0.9288 - loss: 0.2576 - val_accuracy: 0.9015 - val_loss: 0.3380\n",
      "Epoch 22/30\n",
      "\u001b[1m892/892\u001b[0m \u001b[32m━━━━━━━━━━━━━━━━━━━━\u001b[0m\u001b[37m\u001b[0m \u001b[1m13s\u001b[0m 15ms/step - accuracy: 0.9392 - loss: 0.2352 - val_accuracy: 0.9310 - val_loss: 0.2576\n",
      "Epoch 23/30\n",
      "\u001b[1m892/892\u001b[0m \u001b[32m━━━━━━━━━━━━━━━━━━━━\u001b[0m\u001b[37m\u001b[0m \u001b[1m13s\u001b[0m 15ms/step - accuracy: 0.9470 - loss: 0.2041 - val_accuracy: 0.9231 - val_loss: 0.2845\n",
      "Epoch 24/30\n",
      "\u001b[1m892/892\u001b[0m \u001b[32m━━━━━━━━━━━━━━━━━━━━\u001b[0m\u001b[37m\u001b[0m \u001b[1m14s\u001b[0m 15ms/step - accuracy: 0.9562 - loss: 0.1787 - val_accuracy: 0.9341 - val_loss: 0.2396\n",
      "Epoch 25/30\n",
      "\u001b[1m892/892\u001b[0m \u001b[32m━━━━━━━━━━━━━━━━━━━━\u001b[0m\u001b[37m\u001b[0m \u001b[1m15s\u001b[0m 16ms/step - accuracy: 0.9572 - loss: 0.1668 - val_accuracy: 0.9564 - val_loss: 0.1820\n",
      "Epoch 26/30\n",
      "\u001b[1m892/892\u001b[0m \u001b[32m━━━━━━━━━━━━━━━━━━━━\u001b[0m\u001b[37m\u001b[0m \u001b[1m14s\u001b[0m 16ms/step - accuracy: 0.9608 - loss: 0.1513 - val_accuracy: 0.9578 - val_loss: 0.1743\n",
      "Epoch 27/30\n",
      "\u001b[1m892/892\u001b[0m \u001b[32m━━━━━━━━━━━━━━━━━━━━\u001b[0m\u001b[37m\u001b[0m \u001b[1m14s\u001b[0m 16ms/step - accuracy: 0.9713 - loss: 0.1271 - val_accuracy: 0.9458 - val_loss: 0.2085\n",
      "Epoch 28/30\n",
      "\u001b[1m892/892\u001b[0m \u001b[32m━━━━━━━━━━━━━━━━━━━━\u001b[0m\u001b[37m\u001b[0m \u001b[1m14s\u001b[0m 16ms/step - accuracy: 0.9725 - loss: 0.1184 - val_accuracy: 0.9458 - val_loss: 0.1974\n",
      "Epoch 29/30\n",
      "\u001b[1m892/892\u001b[0m \u001b[32m━━━━━━━━━━━━━━━━━━━━\u001b[0m\u001b[37m\u001b[0m \u001b[1m15s\u001b[0m 16ms/step - accuracy: 0.9775 - loss: 0.1041 - val_accuracy: 0.9691 - val_loss: 0.1364\n",
      "Epoch 30/30\n",
      "\u001b[1m892/892\u001b[0m \u001b[32m━━━━━━━━━━━━━━━━━━━━\u001b[0m\u001b[37m\u001b[0m \u001b[1m15s\u001b[0m 16ms/step - accuracy: 0.9805 - loss: 0.0950 - val_accuracy: 0.9626 - val_loss: 0.1489\n"
     ]
    }
   ],
   "source": [
    "from tensorflow.keras.models import Model\n",
    "from tensorflow.keras.layers import Input, Bidirectional, LSTM, Attention, Dense\n",
    "from tensorflow.keras.callbacks import ModelCheckpoint, EarlyStopping\n",
    "from tensorflow.keras.utils import to_categorical\n",
    "\n",
    "\n",
    "\n",
    "input_shape = X_train.shape[1:]  \n",
    "num_classes = y_train_one_hot.shape[1]\n",
    "\n",
    "\n",
    "inputs = Input(shape=input_shape)\n",
    "lstm_out = Bidirectional(LSTM(128, return_sequences=True))(inputs)\n",
    "attention_out = Attention()([lstm_out, lstm_out])  # Correct usage: list of [query, value]\n",
    "output = Dense(num_classes, activation='softmax')(attention_out[:, -1, :])  # Pick last timestep after attention\n",
    "\n",
    "model = Model(inputs, output)\n",
    "model.compile(optimizer='adam', loss='categorical_crossentropy', metrics=['accuracy'])\n",
    "\n",
    "\n",
    "early_stop = EarlyStopping(monitor='val_loss', patience=3, restore_best_weights=True)\n",
    "checkpoint = ModelCheckpoint('best_bilstm_attention_model.keras', monitor='val_loss', save_best_only=True)\n",
    "\n",
    "\n",
    "history = model.fit(\n",
    "    X_train, y_train_one_hot,\n",
    "    validation_data=(X_test, y_test_one_hot),\n",
    "    epochs=30,\n",
    "    batch_size=32,\n",
    "    callbacks=[early_stop, checkpoint]\n",
    ")\n"
   ]
  },
  {
   "cell_type": "code",
   "execution_count": 122,
   "id": "b5927672-9d4c-4486-886a-5e0e5f202896",
   "metadata": {},
   "outputs": [
    {
     "name": "stdout",
     "output_type": "stream",
     "text": [
      "\u001b[1m92/92\u001b[0m \u001b[32m━━━━━━━━━━━━━━━━━━━━\u001b[0m\u001b[37m\u001b[0m \u001b[1m1s\u001b[0m 7ms/step - accuracy: 0.9720 - loss: 0.1297\n",
      "Test Accuracy: 0.9691, Test Loss: 0.1364\n"
     ]
    }
   ],
   "source": [
    "test_loss, test_acc = model.evaluate(X_test, y_test_one_hot)\n",
    "print(f\"Test Accuracy: {test_acc:.4f}, Test Loss: {test_loss:.4f}\")\n"
   ]
  },
  {
   "cell_type": "code",
   "execution_count": 124,
   "id": "ccf259d1-423d-45ea-b2a8-1561bd0d983b",
   "metadata": {},
   "outputs": [
    {
     "name": "stdout",
     "output_type": "stream",
     "text": [
      "\u001b[1m92/92\u001b[0m \u001b[32m━━━━━━━━━━━━━━━━━━━━\u001b[0m\u001b[37m\u001b[0m \u001b[1m1s\u001b[0m 7ms/step - accuracy: 0.9720 - loss: 0.1297\n",
      "Test Accuracy: 0.9691, Test Loss: 0.1364\n"
     ]
    }
   ],
   "source": [
    "test_loss, test_acc = model.evaluate(X_test, y_test_one_hot)\n",
    "print(f\"Test Accuracy: {test_acc:.4f}, Test Loss: {test_loss:.4f}\")\n"
   ]
  },
  {
   "cell_type": "code",
   "execution_count": 128,
   "id": "5729748b-0800-4cbb-b0e0-c98558465e3f",
   "metadata": {},
   "outputs": [
    {
     "name": "stdout",
     "output_type": "stream",
     "text": [
      "Model loaded successfully!\n"
     ]
    }
   ],
   "source": [
    "from tensorflow.keras.models import load_model\n",
    "\n",
    "try:\n",
    "    model = load_model(\"best_bilstm_attention_model.keras\")\n",
    "    print(\"Model loaded successfully!\")\n",
    "except Exception as e:\n",
    "    print(f\"Error loading model: {e}\")\n"
   ]
  },
  {
   "cell_type": "code",
   "execution_count": 6,
   "id": "66779a3d-c7f7-47b0-9a9e-33199ef734db",
   "metadata": {},
   "outputs": [
    {
     "name": "stdout",
     "output_type": "stream",
     "text": [
      "Model loaded successfully!\n"
     ]
    }
   ],
   "source": [
    "from tensorflow.keras.models import load_model\n",
    "\n",
    "try:\n",
    "    model = load_model(\"best_bilstm_attention_model.keras\")\n",
    "    print(\"Model loaded successfully!\")\n",
    "except Exception as e:\n",
    "    print(f\"Error loading model: {e}\")\n"
   ]
  },
  {
   "cell_type": "code",
   "execution_count": null,
   "id": "85147585-84be-414e-a579-639c3736f566",
   "metadata": {},
   "outputs": [
    {
     "name": "stdout",
     "output_type": "stream",
     "text": [
      "\u001b[1m1/1\u001b[0m \u001b[32m━━━━━━━━━━━━━━━━━━━━\u001b[0m\u001b[37m\u001b[0m \u001b[1m0s\u001b[0m 362ms/step\n",
      "Predicted Speaker_ID: 227\n"
     ]
    }
   ],
   "source": [
    "import numpy as np\n",
    "import librosa\n",
    "import tensorflow as tf\n",
    "\n",
    "\n",
    "model = tf.keras.models.load_model(\"best_bilstm_attention_model.keras\")\n",
    "\n",
    "\n",
    "audio_path = \"61-70968-0001.wav\"  \n",
    "\n",
    "\n",
    "y, sr = librosa.load(audio_path, sr=None)\n",
    "\n",
    "\n",
    "mfcc = librosa.feature.mfcc(y=y, sr=sr, n_mfcc=13)\n",
    "\n",
    "\n",
    "if mfcc.shape[1] < 30:\n",
    "    pad_width = 30 - mfcc.shape[1]\n",
    "    mfcc = np.pad(mfcc, pad_width=((0,0),(0, pad_width)), mode='constant')\n",
    "else:\n",
    "    mfcc = mfcc[:, :30]\n",
    "\n",
    "\n",
    "mfcc_mean = np.mean(mfcc, axis=0)\n",
    "\n",
    "\n",
    "input_data = mfcc_mean.reshape(1, 30, 1)\n",
    "\n",
    "\n",
    "prediction = model.predict(input_data)\n",
    "predicted_label = np.argmax(prediction)\n",
    "\n",
    "print(f\"Predicted Speaker_ID: {predicted_label}\")\n"
   ]
  },
  {
   "cell_type": "code",
   "execution_count": null,
   "id": "66142e39-fb17-4e29-b13f-da501b85dfc0",
   "metadata": {},
   "outputs": [],
   "source": []
  }
 ],
 "metadata": {
  "kernelspec": {
   "display_name": "Python 3 (ipykernel)",
   "language": "python",
   "name": "python3"
  },
  "language_info": {
   "codemirror_mode": {
    "name": "ipython",
    "version": 3
   },
   "file_extension": ".py",
   "mimetype": "text/x-python",
   "name": "python",
   "nbconvert_exporter": "python",
   "pygments_lexer": "ipython3",
   "version": "3.13.5"
  }
 },
 "nbformat": 4,
 "nbformat_minor": 5
}
